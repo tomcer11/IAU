{
 "cells": [
  {
   "cell_type": "code",
   "execution_count": 1,
   "metadata": {},
   "outputs": [],
   "source": [
    "import pandas as pd\n",
    "import numpy as np\n",
    "import matplotlib.pyplot as plt\n",
    "import seaborn as sns\n",
    "import scipy.stats as stats\n",
    "import statsmodels.api as sm\n",
    "import statsmodels.stats.api as sms\n",
    "from sklearn.model_selection import train_test_split"
   ]
  },
  {
   "cell_type": "markdown",
   "metadata": {},
   "source": [
    "# Načítavanie dát"
   ]
  },
  {
   "cell_type": "code",
   "execution_count": 2,
   "metadata": {},
   "outputs": [],
   "source": [
    "data = pd.read_csv('data/data_phase_1.csv')"
   ]
  },
  {
   "cell_type": "markdown",
   "metadata": {},
   "source": [
    "# Podiel práce"
   ]
  },
  {
   "cell_type": "markdown",
   "metadata": {},
   "source": [
    "Tulach 50%\n",
    "\n",
    "Černega 50%"
   ]
  },
  {
   "cell_type": "markdown",
   "metadata": {},
   "source": [
    "# Riešenie"
   ]
  },
  {
   "cell_type": "markdown",
   "metadata": {},
   "source": [
    "## 2.1 A"
   ]
  },
  {
   "cell_type": "markdown",
   "metadata": {},
   "source": [
    "Na konci prvej fázy zadania sme si exportli mergnutý dataset všetkých 4 tabuliek a ten sme následne importovali sem:"
   ]
  },
  {
   "cell_type": "code",
   "execution_count": 3,
   "metadata": {},
   "outputs": [
    {
     "name": "stdout",
     "output_type": "stream",
     "text": [
      "<class 'pandas.core.frame.DataFrame'>\n",
      "RangeIndex: 45586 entries, 0 to 45585\n",
      "Data columns (total 49 columns):\n",
      " #   Column                      Non-Null Count  Dtype  \n",
      "---  ------                      --------------  -----  \n",
      " 0   ts                          45586 non-null  object \n",
      " 1   imei                        45586 non-null  int64  \n",
      " 2   mwra                        45586 non-null  float64\n",
      " 3   c.android.youtube           45586 non-null  float64\n",
      " 4   c.android.chrome            45586 non-null  float64\n",
      " 5   c.android.gm                45586 non-null  float64\n",
      " 6   c.dogalize                  45586 non-null  float64\n",
      " 7   c.katana                    45586 non-null  float64\n",
      " 8   c.UCMobile.x86              45586 non-null  float64\n",
      " 9   c.updateassist              45586 non-null  float64\n",
      " 10  c.android.vending           45586 non-null  float64\n",
      " 11  c.UCMobile.intl             45586 non-null  float64\n",
      " 12  c.raider                    45586 non-null  float64\n",
      " 13  p.android.packageinstaller  45586 non-null  float64\n",
      " 14  p.android.documentsui       45586 non-null  float64\n",
      " 15  p.system                    45586 non-null  float64\n",
      " 16  p.android.externalstorage   45586 non-null  float64\n",
      " 17  p.android.chrome            45586 non-null  float64\n",
      " 18  p.android.settings          45586 non-null  float64\n",
      " 19  p.android.gm                45586 non-null  float64\n",
      " 20  p.inputmethod.latin         45586 non-null  float64\n",
      " 21  p.android.vending           45586 non-null  float64\n",
      " 22  p.process.gapps             45586 non-null  float64\n",
      " 23  p.notifier                  45586 non-null  float64\n",
      " 24  p.katana                    45586 non-null  float64\n",
      " 25  p.google                    45586 non-null  float64\n",
      " 26  p.android.defcontainer      45586 non-null  float64\n",
      " 27  p.simulator                 45586 non-null  float64\n",
      " 28  p.android.gms               45586 non-null  float64\n",
      " 29  p.dogalize                  45586 non-null  float64\n",
      " 30  p.gms.persistent            45586 non-null  float64\n",
      " 31  p.browser.provider          45586 non-null  float64\n",
      " 32  p.olauncher                 45586 non-null  float64\n",
      " 33  latitude_devices            45586 non-null  float64\n",
      " 34  longitude_devices           45586 non-null  float64\n",
      " 35  store_name                  45586 non-null  object \n",
      " 36  code                        45586 non-null  object \n",
      " 37  location                    45586 non-null  object \n",
      " 38  name                        45586 non-null  object \n",
      " 39  ssn                         45586 non-null  object \n",
      " 40  company                     45586 non-null  object \n",
      " 41  user_id                     45586 non-null  int64  \n",
      " 42  address                     45586 non-null  object \n",
      " 43  username                    45586 non-null  object \n",
      " 44  registration                45586 non-null  object \n",
      " 45  mail                        45586 non-null  object \n",
      " 46  job                         14367 non-null  object \n",
      " 47  latitude_profile            31951 non-null  float64\n",
      " 48  longitude_profile           31951 non-null  float64\n",
      "dtypes: float64(35), int64(2), object(12)\n",
      "memory usage: 17.0+ MB\n"
     ]
    }
   ],
   "source": [
    "data.info()"
   ]
  },
  {
   "cell_type": "markdown",
   "metadata": {},
   "source": [
    "Moje zdôvodnenie pre tento krok je ten, že sme v prvej fáze niektoré stĺpce niektorých tabuliek mazali a prerábali na dva osobitné stĺpce (konkrétne stĺpec location sme úplne zmazali a tie dáta sme prerobili na latitude a longtitude, keďže je lepšie mať univerzálny formát dát). Sekvenčne je vytvorenie testovacej a trénovacej sady z týchto dát ako prvá úloha v tejto fáze zadania, a síce už máme odstránených outlierov, mohli nám vzniknúť noví, ktorých by sme dokázali odstrániť pomocou Pipeline tak či tak. Vytvoríme si teda testovaciu a trénovaciu sadu:"
   ]
  },
  {
   "cell_type": "code",
   "execution_count": 4,
   "metadata": {},
   "outputs": [
    {
     "name": "stdout",
     "output_type": "stream",
     "text": [
      "X_train shape: (36468, 48)\n",
      "X_test shape: (9118, 48)\n",
      "y_train shape: (36468,)\n",
      "y_test shape: (9118,)\n"
     ]
    }
   ],
   "source": [
    "# Define the target variable and features\n",
    "X = data.drop(columns=['mwra'])\n",
    "y = data['mwra']\n",
    "\n",
    "# Split the data into training and test sets\n",
    "X_train, X_test, y_train, y_test = train_test_split(X, y, test_size=0.2, random_state=42)\n",
    "\n",
    "# Display the shapes of the resulting datasets\n",
    "print(f\"X_train shape: {X_train.shape}\")\n",
    "print(f\"X_test shape: {X_test.shape}\")\n",
    "print(f\"y_train shape: {y_train.shape}\")\n",
    "print(f\"y_test shape: {y_test.shape}\")"
   ]
  },
  {
   "cell_type": "markdown",
   "metadata": {},
   "source": [
    "Ďalej budeme už robiť zatiaľ s trénovacím datasetom."
   ]
  },
  {
   "cell_type": "markdown",
   "metadata": {},
   "source": [
    "## 2.1 B"
   ]
  }
 ],
 "metadata": {
  "kernelspec": {
   "display_name": ".venv",
   "language": "python",
   "name": "python3"
  },
  "language_info": {
   "codemirror_mode": {
    "name": "ipython",
    "version": 3
   },
   "file_extension": ".py",
   "mimetype": "text/x-python",
   "name": "python",
   "nbconvert_exporter": "python",
   "pygments_lexer": "ipython3",
   "version": "3.12.3"
  }
 },
 "nbformat": 4,
 "nbformat_minor": 2
}
