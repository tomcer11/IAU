{
 "cells": [
  {
   "cell_type": "markdown",
   "metadata": {},
   "source": [
    "# Import libraries"
   ]
  },
  {
   "cell_type": "code",
   "execution_count": 92,
   "metadata": {},
   "outputs": [],
   "source": [
    "import pandas as pd\n",
    "import numpy as np\n",
    "import matplotlib.pyplot as plt\n",
    "import seaborn as sns\n",
    "import scipy.stats as stats"
   ]
  },
  {
   "cell_type": "markdown",
   "metadata": {},
   "source": [
    "# Read data"
   ]
  },
  {
   "cell_type": "code",
   "execution_count": 93,
   "metadata": {},
   "outputs": [],
   "source": [
    "connections = pd.read_csv('data/081/connections.csv', on_bad_lines='warn', delimiter='\\t')\n",
    "devices = pd.read_csv('data/081/devices.csv', on_bad_lines='warn', delimiter='\\t')\n",
    "processes = pd.read_csv('data/081/processes.csv', on_bad_lines='warn', delimiter='\\t')\n",
    "profiles = pd.read_csv('data/081/profiles.csv', on_bad_lines='warn', delimiter='\\t')"
   ]
  },
  {
   "cell_type": "markdown",
   "metadata": {},
   "source": [
    "# 1.1.A\n",
    "\n",
    "\n",
    "## Opis dát"
   ]
  },
  {
   "cell_type": "code",
   "execution_count": 94,
   "metadata": {},
   "outputs": [
    {
     "data": {
      "text/html": [
       "<div>\n",
       "<style scoped>\n",
       "    .dataframe tbody tr th:only-of-type {\n",
       "        vertical-align: middle;\n",
       "    }\n",
       "\n",
       "    .dataframe tbody tr th {\n",
       "        vertical-align: top;\n",
       "    }\n",
       "\n",
       "    .dataframe thead th {\n",
       "        text-align: right;\n",
       "    }\n",
       "</style>\n",
       "<table border=\"1\" class=\"dataframe\">\n",
       "  <thead>\n",
       "    <tr style=\"text-align: right;\">\n",
       "      <th></th>\n",
       "      <th>ts</th>\n",
       "      <th>imei</th>\n",
       "      <th>mwra</th>\n",
       "      <th>c.android.youtube</th>\n",
       "      <th>c.android.chrome</th>\n",
       "      <th>c.android.gm</th>\n",
       "      <th>c.dogalize</th>\n",
       "      <th>c.katana</th>\n",
       "      <th>c.UCMobile.x86</th>\n",
       "      <th>c.updateassist</th>\n",
       "      <th>c.android.vending</th>\n",
       "      <th>c.UCMobile.intl</th>\n",
       "      <th>c.raider</th>\n",
       "    </tr>\n",
       "  </thead>\n",
       "  <tbody>\n",
       "    <tr>\n",
       "      <th>0</th>\n",
       "      <td>2018-05-05 10:00:00</td>\n",
       "      <td>8630330696303482162</td>\n",
       "      <td>0.0</td>\n",
       "      <td>13.42668</td>\n",
       "      <td>15.66393</td>\n",
       "      <td>11.65566</td>\n",
       "      <td>10.64494</td>\n",
       "      <td>10.08955</td>\n",
       "      <td>70.03983</td>\n",
       "      <td>48.23639</td>\n",
       "      <td>64.64275</td>\n",
       "      <td>81.97591</td>\n",
       "      <td>7.36220</td>\n",
       "    </tr>\n",
       "    <tr>\n",
       "      <th>1</th>\n",
       "      <td>2018-05-05 10:01:00</td>\n",
       "      <td>8630330696303481370</td>\n",
       "      <td>0.0</td>\n",
       "      <td>11.45362</td>\n",
       "      <td>10.75380</td>\n",
       "      <td>9.79337</td>\n",
       "      <td>17.14804</td>\n",
       "      <td>15.31063</td>\n",
       "      <td>55.17141</td>\n",
       "      <td>48.61060</td>\n",
       "      <td>49.60841</td>\n",
       "      <td>38.25160</td>\n",
       "      <td>56.58256</td>\n",
       "    </tr>\n",
       "    <tr>\n",
       "      <th>2</th>\n",
       "      <td>2018-05-05 10:02:00</td>\n",
       "      <td>3590433799317661941</td>\n",
       "      <td>1.0</td>\n",
       "      <td>16.33410</td>\n",
       "      <td>7.54294</td>\n",
       "      <td>7.33426</td>\n",
       "      <td>12.91862</td>\n",
       "      <td>17.03970</td>\n",
       "      <td>44.36041</td>\n",
       "      <td>57.53637</td>\n",
       "      <td>17.15762</td>\n",
       "      <td>93.66474</td>\n",
       "      <td>47.72499</td>\n",
       "    </tr>\n",
       "    <tr>\n",
       "      <th>3</th>\n",
       "      <td>2018-05-05 10:03:00</td>\n",
       "      <td>3590433799317661370</td>\n",
       "      <td>1.0</td>\n",
       "      <td>12.27418</td>\n",
       "      <td>12.72129</td>\n",
       "      <td>11.98519</td>\n",
       "      <td>8.49009</td>\n",
       "      <td>12.40497</td>\n",
       "      <td>49.59519</td>\n",
       "      <td>50.91479</td>\n",
       "      <td>86.52847</td>\n",
       "      <td>3.66828</td>\n",
       "      <td>15.77725</td>\n",
       "    </tr>\n",
       "    <tr>\n",
       "      <th>4</th>\n",
       "      <td>2018-05-05 10:04:00</td>\n",
       "      <td>3590433799317661628</td>\n",
       "      <td>0.0</td>\n",
       "      <td>10.96774</td>\n",
       "      <td>11.00387</td>\n",
       "      <td>12.92665</td>\n",
       "      <td>15.85612</td>\n",
       "      <td>10.30359</td>\n",
       "      <td>20.78323</td>\n",
       "      <td>44.93539</td>\n",
       "      <td>41.46109</td>\n",
       "      <td>45.39833</td>\n",
       "      <td>11.02030</td>\n",
       "    </tr>\n",
       "  </tbody>\n",
       "</table>\n",
       "</div>"
      ],
      "text/plain": [
       "                    ts                 imei  mwra  c.android.youtube  \\\n",
       "0  2018-05-05 10:00:00  8630330696303482162   0.0           13.42668   \n",
       "1  2018-05-05 10:01:00  8630330696303481370   0.0           11.45362   \n",
       "2  2018-05-05 10:02:00  3590433799317661941   1.0           16.33410   \n",
       "3  2018-05-05 10:03:00  3590433799317661370   1.0           12.27418   \n",
       "4  2018-05-05 10:04:00  3590433799317661628   0.0           10.96774   \n",
       "\n",
       "   c.android.chrome  c.android.gm  c.dogalize  c.katana  c.UCMobile.x86  \\\n",
       "0          15.66393      11.65566    10.64494  10.08955        70.03983   \n",
       "1          10.75380       9.79337    17.14804  15.31063        55.17141   \n",
       "2           7.54294       7.33426    12.91862  17.03970        44.36041   \n",
       "3          12.72129      11.98519     8.49009  12.40497        49.59519   \n",
       "4          11.00387      12.92665    15.85612  10.30359        20.78323   \n",
       "\n",
       "   c.updateassist  c.android.vending  c.UCMobile.intl  c.raider  \n",
       "0        48.23639           64.64275         81.97591   7.36220  \n",
       "1        48.61060           49.60841         38.25160  56.58256  \n",
       "2        57.53637           17.15762         93.66474  47.72499  \n",
       "3        50.91479           86.52847          3.66828  15.77725  \n",
       "4        44.93539           41.46109         45.39833  11.02030  "
      ]
     },
     "execution_count": 94,
     "metadata": {},
     "output_type": "execute_result"
    }
   ],
   "source": [
    "connections.head()"
   ]
  },
  {
   "cell_type": "code",
   "execution_count": 95,
   "metadata": {},
   "outputs": [
    {
     "name": "stdout",
     "output_type": "stream",
     "text": [
      "<class 'pandas.core.frame.DataFrame'>\n",
      "RangeIndex: 15162 entries, 0 to 15161\n",
      "Data columns (total 13 columns):\n",
      " #   Column             Non-Null Count  Dtype  \n",
      "---  ------             --------------  -----  \n",
      " 0   ts                 15162 non-null  object \n",
      " 1   imei               15162 non-null  int64  \n",
      " 2   mwra               15162 non-null  float64\n",
      " 3   c.android.youtube  15162 non-null  float64\n",
      " 4   c.android.chrome   15162 non-null  float64\n",
      " 5   c.android.gm       15162 non-null  float64\n",
      " 6   c.dogalize         15162 non-null  float64\n",
      " 7   c.katana           15162 non-null  float64\n",
      " 8   c.UCMobile.x86     15162 non-null  float64\n",
      " 9   c.updateassist     15162 non-null  float64\n",
      " 10  c.android.vending  15162 non-null  float64\n",
      " 11  c.UCMobile.intl    15162 non-null  float64\n",
      " 12  c.raider           15162 non-null  float64\n",
      "dtypes: float64(11), int64(1), object(1)\n",
      "memory usage: 1.5+ MB\n"
     ]
    },
    {
     "data": {
      "text/html": [
       "<div>\n",
       "<style scoped>\n",
       "    .dataframe tbody tr th:only-of-type {\n",
       "        vertical-align: middle;\n",
       "    }\n",
       "\n",
       "    .dataframe tbody tr th {\n",
       "        vertical-align: top;\n",
       "    }\n",
       "\n",
       "    .dataframe thead th {\n",
       "        text-align: right;\n",
       "    }\n",
       "</style>\n",
       "<table border=\"1\" class=\"dataframe\">\n",
       "  <thead>\n",
       "    <tr style=\"text-align: right;\">\n",
       "      <th></th>\n",
       "      <th>imei</th>\n",
       "      <th>mwra</th>\n",
       "      <th>c.android.youtube</th>\n",
       "      <th>c.android.chrome</th>\n",
       "      <th>c.android.gm</th>\n",
       "      <th>c.dogalize</th>\n",
       "      <th>c.katana</th>\n",
       "      <th>c.UCMobile.x86</th>\n",
       "      <th>c.updateassist</th>\n",
       "      <th>c.android.vending</th>\n",
       "      <th>c.UCMobile.intl</th>\n",
       "      <th>c.raider</th>\n",
       "    </tr>\n",
       "  </thead>\n",
       "  <tbody>\n",
       "    <tr>\n",
       "      <th>count</th>\n",
       "      <td>1.516200e+04</td>\n",
       "      <td>15162.000000</td>\n",
       "      <td>15162.000000</td>\n",
       "      <td>15162.000000</td>\n",
       "      <td>15162.000000</td>\n",
       "      <td>15162.000000</td>\n",
       "      <td>15162.000000</td>\n",
       "      <td>15162.000000</td>\n",
       "      <td>15162.000000</td>\n",
       "      <td>15162.000000</td>\n",
       "      <td>15162.000000</td>\n",
       "      <td>15162.000000</td>\n",
       "    </tr>\n",
       "    <tr>\n",
       "      <th>mean</th>\n",
       "      <td>3.923871e+18</td>\n",
       "      <td>0.626698</td>\n",
       "      <td>13.119660</td>\n",
       "      <td>11.947438</td>\n",
       "      <td>11.949905</td>\n",
       "      <td>12.500060</td>\n",
       "      <td>12.484151</td>\n",
       "      <td>50.323781</td>\n",
       "      <td>52.536704</td>\n",
       "      <td>49.469003</td>\n",
       "      <td>50.004304</td>\n",
       "      <td>49.727124</td>\n",
       "    </tr>\n",
       "    <tr>\n",
       "      <th>std</th>\n",
       "      <td>3.321549e+18</td>\n",
       "      <td>0.483697</td>\n",
       "      <td>2.605412</td>\n",
       "      <td>2.652434</td>\n",
       "      <td>2.614210</td>\n",
       "      <td>2.637516</td>\n",
       "      <td>2.565811</td>\n",
       "      <td>13.268816</td>\n",
       "      <td>13.034044</td>\n",
       "      <td>28.937254</td>\n",
       "      <td>28.838077</td>\n",
       "      <td>28.698003</td>\n",
       "    </tr>\n",
       "    <tr>\n",
       "      <th>min</th>\n",
       "      <td>3.590434e+17</td>\n",
       "      <td>0.000000</td>\n",
       "      <td>4.135800</td>\n",
       "      <td>2.456990</td>\n",
       "      <td>2.399800</td>\n",
       "      <td>2.748560</td>\n",
       "      <td>4.419040</td>\n",
       "      <td>0.000000</td>\n",
       "      <td>0.000000</td>\n",
       "      <td>0.000000</td>\n",
       "      <td>0.000000</td>\n",
       "      <td>0.000000</td>\n",
       "    </tr>\n",
       "    <tr>\n",
       "      <th>25%</th>\n",
       "      <td>8.630331e+17</td>\n",
       "      <td>0.000000</td>\n",
       "      <td>11.383815</td>\n",
       "      <td>10.032775</td>\n",
       "      <td>10.093725</td>\n",
       "      <td>10.633720</td>\n",
       "      <td>10.548925</td>\n",
       "      <td>41.401637</td>\n",
       "      <td>43.777812</td>\n",
       "      <td>24.488428</td>\n",
       "      <td>24.978685</td>\n",
       "      <td>25.345785</td>\n",
       "    </tr>\n",
       "    <tr>\n",
       "      <th>50%</th>\n",
       "      <td>3.590434e+18</td>\n",
       "      <td>1.000000</td>\n",
       "      <td>13.321610</td>\n",
       "      <td>11.889335</td>\n",
       "      <td>11.886435</td>\n",
       "      <td>12.647560</td>\n",
       "      <td>12.318145</td>\n",
       "      <td>50.090725</td>\n",
       "      <td>52.525540</td>\n",
       "      <td>49.248720</td>\n",
       "      <td>50.390130</td>\n",
       "      <td>49.815600</td>\n",
       "    </tr>\n",
       "    <tr>\n",
       "      <th>75%</th>\n",
       "      <td>8.630331e+18</td>\n",
       "      <td>1.000000</td>\n",
       "      <td>14.969463</td>\n",
       "      <td>13.854020</td>\n",
       "      <td>13.824647</td>\n",
       "      <td>14.435635</td>\n",
       "      <td>14.352718</td>\n",
       "      <td>59.297940</td>\n",
       "      <td>61.456370</td>\n",
       "      <td>74.709677</td>\n",
       "      <td>74.982998</td>\n",
       "      <td>74.046170</td>\n",
       "    </tr>\n",
       "    <tr>\n",
       "      <th>max</th>\n",
       "      <td>8.630331e+18</td>\n",
       "      <td>1.000000</td>\n",
       "      <td>22.880240</td>\n",
       "      <td>21.208900</td>\n",
       "      <td>22.046630</td>\n",
       "      <td>21.451520</td>\n",
       "      <td>21.651550</td>\n",
       "      <td>100.000000</td>\n",
       "      <td>100.000000</td>\n",
       "      <td>100.000000</td>\n",
       "      <td>100.000000</td>\n",
       "      <td>100.000000</td>\n",
       "    </tr>\n",
       "  </tbody>\n",
       "</table>\n",
       "</div>"
      ],
      "text/plain": [
       "               imei          mwra  c.android.youtube  c.android.chrome  \\\n",
       "count  1.516200e+04  15162.000000       15162.000000      15162.000000   \n",
       "mean   3.923871e+18      0.626698          13.119660         11.947438   \n",
       "std    3.321549e+18      0.483697           2.605412          2.652434   \n",
       "min    3.590434e+17      0.000000           4.135800          2.456990   \n",
       "25%    8.630331e+17      0.000000          11.383815         10.032775   \n",
       "50%    3.590434e+18      1.000000          13.321610         11.889335   \n",
       "75%    8.630331e+18      1.000000          14.969463         13.854020   \n",
       "max    8.630331e+18      1.000000          22.880240         21.208900   \n",
       "\n",
       "       c.android.gm    c.dogalize      c.katana  c.UCMobile.x86  \\\n",
       "count  15162.000000  15162.000000  15162.000000    15162.000000   \n",
       "mean      11.949905     12.500060     12.484151       50.323781   \n",
       "std        2.614210      2.637516      2.565811       13.268816   \n",
       "min        2.399800      2.748560      4.419040        0.000000   \n",
       "25%       10.093725     10.633720     10.548925       41.401637   \n",
       "50%       11.886435     12.647560     12.318145       50.090725   \n",
       "75%       13.824647     14.435635     14.352718       59.297940   \n",
       "max       22.046630     21.451520     21.651550      100.000000   \n",
       "\n",
       "       c.updateassist  c.android.vending  c.UCMobile.intl      c.raider  \n",
       "count    15162.000000       15162.000000     15162.000000  15162.000000  \n",
       "mean        52.536704          49.469003        50.004304     49.727124  \n",
       "std         13.034044          28.937254        28.838077     28.698003  \n",
       "min          0.000000           0.000000         0.000000      0.000000  \n",
       "25%         43.777812          24.488428        24.978685     25.345785  \n",
       "50%         52.525540          49.248720        50.390130     49.815600  \n",
       "75%         61.456370          74.709677        74.982998     74.046170  \n",
       "max        100.000000         100.000000       100.000000    100.000000  "
      ]
     },
     "execution_count": 95,
     "metadata": {},
     "output_type": "execute_result"
    }
   ],
   "source": [
    "connections.info()\n",
    "connections.describe()"
   ]
  },
  {
   "cell_type": "markdown",
   "metadata": {},
   "source": [
    "Môžeme pozorovať, že v tabuľke connections sa nenachádzajú žiadne nedefinované hodnoty. Tabuľka má 15162 riadkov. Celkovo je tabuľka zložená z 1 stĺpca objekov, ktoré reprezentujú timestamp, 10 spojitých atribútov s dátovým typom float64 a 1 kategorický atribút int64, ktorý reprezentuje identifikátor a 1 kategorický atribút float64, ktorý reprezentuje infikovanosť. Taktiež vidíme, že 63% záznamov bolo napadnutých malware-om."
   ]
  },
  {
   "cell_type": "code",
   "execution_count": 96,
   "metadata": {},
   "outputs": [
    {
     "data": {
      "text/html": [
       "<div>\n",
       "<style scoped>\n",
       "    .dataframe tbody tr th:only-of-type {\n",
       "        vertical-align: middle;\n",
       "    }\n",
       "\n",
       "    .dataframe tbody tr th {\n",
       "        vertical-align: top;\n",
       "    }\n",
       "\n",
       "    .dataframe thead th {\n",
       "        text-align: right;\n",
       "    }\n",
       "</style>\n",
       "<table border=\"1\" class=\"dataframe\">\n",
       "  <thead>\n",
       "    <tr style=\"text-align: right;\">\n",
       "      <th></th>\n",
       "      <th>latitude</th>\n",
       "      <th>longitude</th>\n",
       "      <th>store_name</th>\n",
       "      <th>code</th>\n",
       "      <th>location</th>\n",
       "      <th>imei</th>\n",
       "    </tr>\n",
       "  </thead>\n",
       "  <tbody>\n",
       "    <tr>\n",
       "      <th>0</th>\n",
       "      <td>50.75767</td>\n",
       "      <td>-1.54430</td>\n",
       "      <td>Lymington</td>\n",
       "      <td>GB</td>\n",
       "      <td>Europe/London</td>\n",
       "      <td>3590433799317661636</td>\n",
       "    </tr>\n",
       "    <tr>\n",
       "      <th>1</th>\n",
       "      <td>53.95278</td>\n",
       "      <td>32.86389</td>\n",
       "      <td>Roslavl‚Äô</td>\n",
       "      <td>RU</td>\n",
       "      <td>Europe/Moscow</td>\n",
       "      <td>359043379931766130</td>\n",
       "    </tr>\n",
       "    <tr>\n",
       "      <th>2</th>\n",
       "      <td>20.74122</td>\n",
       "      <td>-100.44843</td>\n",
       "      <td>Santa Rosa Jauregui</td>\n",
       "      <td>MX</td>\n",
       "      <td>America/Mexico_City</td>\n",
       "      <td>8630330696303482261</td>\n",
       "    </tr>\n",
       "    <tr>\n",
       "      <th>3</th>\n",
       "      <td>54.58048</td>\n",
       "      <td>16.86194</td>\n",
       "      <td>Ustka</td>\n",
       "      <td>PL</td>\n",
       "      <td>Europe/Warsaw</td>\n",
       "      <td>8630330696303481164</td>\n",
       "    </tr>\n",
       "    <tr>\n",
       "      <th>4</th>\n",
       "      <td>14.37395</td>\n",
       "      <td>100.48528</td>\n",
       "      <td>Bang Ban</td>\n",
       "      <td>TH</td>\n",
       "      <td>Asia/Bangkok</td>\n",
       "      <td>359043379931766262</td>\n",
       "    </tr>\n",
       "  </tbody>\n",
       "</table>\n",
       "</div>"
      ],
      "text/plain": [
       "   latitude  longitude           store_name code             location  \\\n",
       "0  50.75767   -1.54430            Lymington   GB        Europe/London   \n",
       "1  53.95278   32.86389           Roslavl‚Äô   RU        Europe/Moscow   \n",
       "2  20.74122 -100.44843  Santa Rosa Jauregui   MX  America/Mexico_City   \n",
       "3  54.58048   16.86194                Ustka   PL        Europe/Warsaw   \n",
       "4  14.37395  100.48528             Bang Ban   TH         Asia/Bangkok   \n",
       "\n",
       "                  imei  \n",
       "0  3590433799317661636  \n",
       "1   359043379931766130  \n",
       "2  8630330696303482261  \n",
       "3  8630330696303481164  \n",
       "4   359043379931766262  "
      ]
     },
     "execution_count": 96,
     "metadata": {},
     "output_type": "execute_result"
    }
   ],
   "source": [
    "devices.head()"
   ]
  },
  {
   "cell_type": "code",
   "execution_count": 97,
   "metadata": {},
   "outputs": [
    {
     "name": "stdout",
     "output_type": "stream",
     "text": [
      "<class 'pandas.core.frame.DataFrame'>\n",
      "RangeIndex: 2982 entries, 0 to 2981\n",
      "Data columns (total 6 columns):\n",
      " #   Column      Non-Null Count  Dtype  \n",
      "---  ------      --------------  -----  \n",
      " 0   latitude    2982 non-null   float64\n",
      " 1   longitude   2982 non-null   float64\n",
      " 2   store_name  2982 non-null   object \n",
      " 3   code        2980 non-null   object \n",
      " 4   location    2982 non-null   object \n",
      " 5   imei        2982 non-null   int64  \n",
      "dtypes: float64(2), int64(1), object(3)\n",
      "memory usage: 139.9+ KB\n"
     ]
    },
    {
     "data": {
      "text/html": [
       "<div>\n",
       "<style scoped>\n",
       "    .dataframe tbody tr th:only-of-type {\n",
       "        vertical-align: middle;\n",
       "    }\n",
       "\n",
       "    .dataframe tbody tr th {\n",
       "        vertical-align: top;\n",
       "    }\n",
       "\n",
       "    .dataframe thead th {\n",
       "        text-align: right;\n",
       "    }\n",
       "</style>\n",
       "<table border=\"1\" class=\"dataframe\">\n",
       "  <thead>\n",
       "    <tr style=\"text-align: right;\">\n",
       "      <th></th>\n",
       "      <th>latitude</th>\n",
       "      <th>longitude</th>\n",
       "      <th>imei</th>\n",
       "    </tr>\n",
       "  </thead>\n",
       "  <tbody>\n",
       "    <tr>\n",
       "      <th>count</th>\n",
       "      <td>2982.000000</td>\n",
       "      <td>2982.000000</td>\n",
       "      <td>2.982000e+03</td>\n",
       "    </tr>\n",
       "    <tr>\n",
       "      <th>mean</th>\n",
       "      <td>28.858931</td>\n",
       "      <td>13.226179</td>\n",
       "      <td>3.821491e+18</td>\n",
       "    </tr>\n",
       "    <tr>\n",
       "      <th>std</th>\n",
       "      <td>23.364133</td>\n",
       "      <td>72.452759</td>\n",
       "      <td>3.275767e+18</td>\n",
       "    </tr>\n",
       "    <tr>\n",
       "      <th>min</th>\n",
       "      <td>-44.396720</td>\n",
       "      <td>-156.474320</td>\n",
       "      <td>3.590434e+17</td>\n",
       "    </tr>\n",
       "    <tr>\n",
       "      <th>25%</th>\n",
       "      <td>14.505377</td>\n",
       "      <td>-50.006390</td>\n",
       "      <td>8.630331e+17</td>\n",
       "    </tr>\n",
       "    <tr>\n",
       "      <th>50%</th>\n",
       "      <td>36.533330</td>\n",
       "      <td>10.580820</td>\n",
       "      <td>3.590434e+18</td>\n",
       "    </tr>\n",
       "    <tr>\n",
       "      <th>75%</th>\n",
       "      <td>45.790505</td>\n",
       "      <td>73.079458</td>\n",
       "      <td>8.630331e+18</td>\n",
       "    </tr>\n",
       "    <tr>\n",
       "      <th>max</th>\n",
       "      <td>68.798330</td>\n",
       "      <td>178.004170</td>\n",
       "      <td>8.630331e+18</td>\n",
       "    </tr>\n",
       "  </tbody>\n",
       "</table>\n",
       "</div>"
      ],
      "text/plain": [
       "          latitude    longitude          imei\n",
       "count  2982.000000  2982.000000  2.982000e+03\n",
       "mean     28.858931    13.226179  3.821491e+18\n",
       "std      23.364133    72.452759  3.275767e+18\n",
       "min     -44.396720  -156.474320  3.590434e+17\n",
       "25%      14.505377   -50.006390  8.630331e+17\n",
       "50%      36.533330    10.580820  3.590434e+18\n",
       "75%      45.790505    73.079458  8.630331e+18\n",
       "max      68.798330   178.004170  8.630331e+18"
      ]
     },
     "execution_count": 97,
     "metadata": {},
     "output_type": "execute_result"
    }
   ],
   "source": [
    "devices.info()\n",
    "devices.describe()"
   ]
  },
  {
   "cell_type": "markdown",
   "metadata": {},
   "source": [
    "Tabuľka devices obsahuje 2 záznamy s nedefinovanou hodnotou v stĺpci code. Ďalej pozorujeme, že tabuľka obsahuje len 2 spojité atribúty a 2 kategorické, keď nerátame s identifikátorom. Vidíme, že dáta su zozbierané roztrúsené z viaceych častí sveta, čo nám dokazuje priemer atribútov [lattitude, longitude], ktorý sa blíži k hodnote [0, 0]"
   ]
  },
  {
   "cell_type": "code",
   "execution_count": 98,
   "metadata": {},
   "outputs": [
    {
     "data": {
      "text/html": [
       "<div>\n",
       "<style scoped>\n",
       "    .dataframe tbody tr th:only-of-type {\n",
       "        vertical-align: middle;\n",
       "    }\n",
       "\n",
       "    .dataframe tbody tr th {\n",
       "        vertical-align: top;\n",
       "    }\n",
       "\n",
       "    .dataframe thead th {\n",
       "        text-align: right;\n",
       "    }\n",
       "</style>\n",
       "<table border=\"1\" class=\"dataframe\">\n",
       "  <thead>\n",
       "    <tr style=\"text-align: right;\">\n",
       "      <th></th>\n",
       "      <th>ts</th>\n",
       "      <th>imei</th>\n",
       "      <th>mwra</th>\n",
       "      <th>p.android.packageinstaller</th>\n",
       "      <th>p.android.documentsui</th>\n",
       "      <th>p.system</th>\n",
       "      <th>p.android.externalstorage</th>\n",
       "      <th>p.android.chrome</th>\n",
       "      <th>p.android.settings</th>\n",
       "      <th>p.android.gm</th>\n",
       "      <th>...</th>\n",
       "      <th>p.notifier</th>\n",
       "      <th>p.katana</th>\n",
       "      <th>p.google</th>\n",
       "      <th>p.android.defcontainer</th>\n",
       "      <th>p.simulator</th>\n",
       "      <th>p.android.gms</th>\n",
       "      <th>p.dogalize</th>\n",
       "      <th>p.gms.persistent</th>\n",
       "      <th>p.browser.provider</th>\n",
       "      <th>p.olauncher</th>\n",
       "    </tr>\n",
       "  </thead>\n",
       "  <tbody>\n",
       "    <tr>\n",
       "      <th>0</th>\n",
       "      <td>2018-05-05 10:00:00</td>\n",
       "      <td>8630330696303482162</td>\n",
       "      <td>0.0</td>\n",
       "      <td>15.88869</td>\n",
       "      <td>10.05795</td>\n",
       "      <td>13.35182</td>\n",
       "      <td>11.49810</td>\n",
       "      <td>11.32636</td>\n",
       "      <td>15.26689</td>\n",
       "      <td>13.90930</td>\n",
       "      <td>...</td>\n",
       "      <td>13.08851</td>\n",
       "      <td>20.09143</td>\n",
       "      <td>82.79608</td>\n",
       "      <td>66.64918</td>\n",
       "      <td>34.95928</td>\n",
       "      <td>83.11314</td>\n",
       "      <td>80.79682</td>\n",
       "      <td>21.05406</td>\n",
       "      <td>57.70783</td>\n",
       "      <td>62.72112</td>\n",
       "    </tr>\n",
       "    <tr>\n",
       "      <th>1</th>\n",
       "      <td>2018-05-05 10:01:00</td>\n",
       "      <td>8630330696303481370</td>\n",
       "      <td>0.0</td>\n",
       "      <td>8.59717</td>\n",
       "      <td>10.84683</td>\n",
       "      <td>11.02006</td>\n",
       "      <td>10.21514</td>\n",
       "      <td>10.77112</td>\n",
       "      <td>17.05934</td>\n",
       "      <td>14.49830</td>\n",
       "      <td>...</td>\n",
       "      <td>57.82027</td>\n",
       "      <td>82.73715</td>\n",
       "      <td>2.96508</td>\n",
       "      <td>47.76478</td>\n",
       "      <td>67.03415</td>\n",
       "      <td>75.16736</td>\n",
       "      <td>76.36189</td>\n",
       "      <td>88.33102</td>\n",
       "      <td>61.47245</td>\n",
       "      <td>75.35502</td>\n",
       "    </tr>\n",
       "    <tr>\n",
       "      <th>2</th>\n",
       "      <td>2018-05-05 10:02:00</td>\n",
       "      <td>3590433799317661941</td>\n",
       "      <td>1.0</td>\n",
       "      <td>11.63475</td>\n",
       "      <td>13.83435</td>\n",
       "      <td>12.42586</td>\n",
       "      <td>15.64822</td>\n",
       "      <td>12.59035</td>\n",
       "      <td>15.08535</td>\n",
       "      <td>13.79256</td>\n",
       "      <td>...</td>\n",
       "      <td>49.83197</td>\n",
       "      <td>3.40068</td>\n",
       "      <td>74.76720</td>\n",
       "      <td>88.20151</td>\n",
       "      <td>27.44695</td>\n",
       "      <td>50.96700</td>\n",
       "      <td>26.92772</td>\n",
       "      <td>96.30272</td>\n",
       "      <td>50.45846</td>\n",
       "      <td>96.49968</td>\n",
       "    </tr>\n",
       "    <tr>\n",
       "      <th>3</th>\n",
       "      <td>2018-05-05 10:03:00</td>\n",
       "      <td>3590433799317661370</td>\n",
       "      <td>1.0</td>\n",
       "      <td>9.72483</td>\n",
       "      <td>11.01749</td>\n",
       "      <td>14.47931</td>\n",
       "      <td>16.53736</td>\n",
       "      <td>11.39341</td>\n",
       "      <td>15.09234</td>\n",
       "      <td>17.66187</td>\n",
       "      <td>...</td>\n",
       "      <td>73.80461</td>\n",
       "      <td>84.15959</td>\n",
       "      <td>11.84456</td>\n",
       "      <td>87.18456</td>\n",
       "      <td>88.42178</td>\n",
       "      <td>47.68328</td>\n",
       "      <td>2.08008</td>\n",
       "      <td>48.94879</td>\n",
       "      <td>25.98894</td>\n",
       "      <td>56.23937</td>\n",
       "    </tr>\n",
       "    <tr>\n",
       "      <th>4</th>\n",
       "      <td>2018-05-05 10:04:00</td>\n",
       "      <td>3590433799317661628</td>\n",
       "      <td>0.0</td>\n",
       "      <td>11.90430</td>\n",
       "      <td>10.98283</td>\n",
       "      <td>13.36029</td>\n",
       "      <td>15.41702</td>\n",
       "      <td>18.59375</td>\n",
       "      <td>13.91144</td>\n",
       "      <td>13.34290</td>\n",
       "      <td>...</td>\n",
       "      <td>39.66409</td>\n",
       "      <td>78.46198</td>\n",
       "      <td>75.06329</td>\n",
       "      <td>23.80547</td>\n",
       "      <td>19.83619</td>\n",
       "      <td>46.47065</td>\n",
       "      <td>93.48875</td>\n",
       "      <td>44.13500</td>\n",
       "      <td>60.44037</td>\n",
       "      <td>47.82343</td>\n",
       "    </tr>\n",
       "  </tbody>\n",
       "</table>\n",
       "<p>5 rows × 23 columns</p>\n",
       "</div>"
      ],
      "text/plain": [
       "                    ts                 imei  mwra  p.android.packageinstaller  \\\n",
       "0  2018-05-05 10:00:00  8630330696303482162   0.0                    15.88869   \n",
       "1  2018-05-05 10:01:00  8630330696303481370   0.0                     8.59717   \n",
       "2  2018-05-05 10:02:00  3590433799317661941   1.0                    11.63475   \n",
       "3  2018-05-05 10:03:00  3590433799317661370   1.0                     9.72483   \n",
       "4  2018-05-05 10:04:00  3590433799317661628   0.0                    11.90430   \n",
       "\n",
       "   p.android.documentsui  p.system  p.android.externalstorage  \\\n",
       "0               10.05795  13.35182                   11.49810   \n",
       "1               10.84683  11.02006                   10.21514   \n",
       "2               13.83435  12.42586                   15.64822   \n",
       "3               11.01749  14.47931                   16.53736   \n",
       "4               10.98283  13.36029                   15.41702   \n",
       "\n",
       "   p.android.chrome  p.android.settings  p.android.gm  ...  p.notifier  \\\n",
       "0          11.32636            15.26689      13.90930  ...    13.08851   \n",
       "1          10.77112            17.05934      14.49830  ...    57.82027   \n",
       "2          12.59035            15.08535      13.79256  ...    49.83197   \n",
       "3          11.39341            15.09234      17.66187  ...    73.80461   \n",
       "4          18.59375            13.91144      13.34290  ...    39.66409   \n",
       "\n",
       "   p.katana  p.google  p.android.defcontainer  p.simulator  p.android.gms  \\\n",
       "0  20.09143  82.79608                66.64918     34.95928       83.11314   \n",
       "1  82.73715   2.96508                47.76478     67.03415       75.16736   \n",
       "2   3.40068  74.76720                88.20151     27.44695       50.96700   \n",
       "3  84.15959  11.84456                87.18456     88.42178       47.68328   \n",
       "4  78.46198  75.06329                23.80547     19.83619       46.47065   \n",
       "\n",
       "   p.dogalize  p.gms.persistent  p.browser.provider  p.olauncher  \n",
       "0    80.79682          21.05406            57.70783     62.72112  \n",
       "1    76.36189          88.33102            61.47245     75.35502  \n",
       "2    26.92772          96.30272            50.45846     96.49968  \n",
       "3     2.08008          48.94879            25.98894     56.23937  \n",
       "4    93.48875          44.13500            60.44037     47.82343  \n",
       "\n",
       "[5 rows x 23 columns]"
      ]
     },
     "execution_count": 98,
     "metadata": {},
     "output_type": "execute_result"
    }
   ],
   "source": [
    "processes.head()"
   ]
  },
  {
   "cell_type": "code",
   "execution_count": 99,
   "metadata": {},
   "outputs": [
    {
     "name": "stdout",
     "output_type": "stream",
     "text": [
      "<class 'pandas.core.frame.DataFrame'>\n",
      "RangeIndex: 15162 entries, 0 to 15161\n",
      "Data columns (total 23 columns):\n",
      " #   Column                      Non-Null Count  Dtype  \n",
      "---  ------                      --------------  -----  \n",
      " 0   ts                          15162 non-null  object \n",
      " 1   imei                        15162 non-null  int64  \n",
      " 2   mwra                        15162 non-null  float64\n",
      " 3   p.android.packageinstaller  15162 non-null  float64\n",
      " 4   p.android.documentsui       15162 non-null  float64\n",
      " 5   p.system                    15162 non-null  float64\n",
      " 6   p.android.externalstorage   15162 non-null  float64\n",
      " 7   p.android.chrome            15162 non-null  float64\n",
      " 8   p.android.settings          15162 non-null  float64\n",
      " 9   p.android.gm                15162 non-null  float64\n",
      " 10  p.inputmethod.latin         15162 non-null  float64\n",
      " 11  p.android.vending           15162 non-null  float64\n",
      " 12  p.process.gapps             15162 non-null  float64\n",
      " 13  p.notifier                  15162 non-null  float64\n",
      " 14  p.katana                    15162 non-null  float64\n",
      " 15  p.google                    15162 non-null  float64\n",
      " 16  p.android.defcontainer      15162 non-null  float64\n",
      " 17  p.simulator                 15162 non-null  float64\n",
      " 18  p.android.gms               15162 non-null  float64\n",
      " 19  p.dogalize                  15162 non-null  float64\n",
      " 20  p.gms.persistent            15162 non-null  float64\n",
      " 21  p.browser.provider          15162 non-null  float64\n",
      " 22  p.olauncher                 15162 non-null  float64\n",
      "dtypes: float64(21), int64(1), object(1)\n",
      "memory usage: 2.7+ MB\n"
     ]
    },
    {
     "data": {
      "text/html": [
       "<div>\n",
       "<style scoped>\n",
       "    .dataframe tbody tr th:only-of-type {\n",
       "        vertical-align: middle;\n",
       "    }\n",
       "\n",
       "    .dataframe tbody tr th {\n",
       "        vertical-align: top;\n",
       "    }\n",
       "\n",
       "    .dataframe thead th {\n",
       "        text-align: right;\n",
       "    }\n",
       "</style>\n",
       "<table border=\"1\" class=\"dataframe\">\n",
       "  <thead>\n",
       "    <tr style=\"text-align: right;\">\n",
       "      <th></th>\n",
       "      <th>imei</th>\n",
       "      <th>mwra</th>\n",
       "      <th>p.android.packageinstaller</th>\n",
       "      <th>p.android.documentsui</th>\n",
       "      <th>p.system</th>\n",
       "      <th>p.android.externalstorage</th>\n",
       "      <th>p.android.chrome</th>\n",
       "      <th>p.android.settings</th>\n",
       "      <th>p.android.gm</th>\n",
       "      <th>p.inputmethod.latin</th>\n",
       "      <th>...</th>\n",
       "      <th>p.notifier</th>\n",
       "      <th>p.katana</th>\n",
       "      <th>p.google</th>\n",
       "      <th>p.android.defcontainer</th>\n",
       "      <th>p.simulator</th>\n",
       "      <th>p.android.gms</th>\n",
       "      <th>p.dogalize</th>\n",
       "      <th>p.gms.persistent</th>\n",
       "      <th>p.browser.provider</th>\n",
       "      <th>p.olauncher</th>\n",
       "    </tr>\n",
       "  </thead>\n",
       "  <tbody>\n",
       "    <tr>\n",
       "      <th>count</th>\n",
       "      <td>1.516200e+04</td>\n",
       "      <td>15162.000000</td>\n",
       "      <td>15162.000000</td>\n",
       "      <td>15162.000000</td>\n",
       "      <td>15162.000000</td>\n",
       "      <td>15162.000000</td>\n",
       "      <td>15162.000000</td>\n",
       "      <td>15162.000000</td>\n",
       "      <td>15162.000000</td>\n",
       "      <td>15162.000000</td>\n",
       "      <td>...</td>\n",
       "      <td>15162.000000</td>\n",
       "      <td>15162.000000</td>\n",
       "      <td>15162.000000</td>\n",
       "      <td>15162.000000</td>\n",
       "      <td>15162.000000</td>\n",
       "      <td>15162.000000</td>\n",
       "      <td>15162.000000</td>\n",
       "      <td>15162.000000</td>\n",
       "      <td>15162.000000</td>\n",
       "      <td>15162.000000</td>\n",
       "    </tr>\n",
       "    <tr>\n",
       "      <th>mean</th>\n",
       "      <td>3.923871e+18</td>\n",
       "      <td>0.626698</td>\n",
       "      <td>11.326046</td>\n",
       "      <td>11.848870</td>\n",
       "      <td>13.670559</td>\n",
       "      <td>13.055184</td>\n",
       "      <td>11.881308</td>\n",
       "      <td>14.310053</td>\n",
       "      <td>13.132933</td>\n",
       "      <td>54.037651</td>\n",
       "      <td>...</td>\n",
       "      <td>47.207102</td>\n",
       "      <td>49.681392</td>\n",
       "      <td>49.686647</td>\n",
       "      <td>50.041205</td>\n",
       "      <td>50.289712</td>\n",
       "      <td>50.226288</td>\n",
       "      <td>49.865521</td>\n",
       "      <td>49.877674</td>\n",
       "      <td>49.605885</td>\n",
       "      <td>49.839759</td>\n",
       "    </tr>\n",
       "    <tr>\n",
       "      <th>std</th>\n",
       "      <td>3.321549e+18</td>\n",
       "      <td>0.483697</td>\n",
       "      <td>2.209583</td>\n",
       "      <td>2.738104</td>\n",
       "      <td>2.277519</td>\n",
       "      <td>2.675060</td>\n",
       "      <td>2.559545</td>\n",
       "      <td>1.803823</td>\n",
       "      <td>2.624266</td>\n",
       "      <td>13.564650</td>\n",
       "      <td>...</td>\n",
       "      <td>12.849429</td>\n",
       "      <td>28.975010</td>\n",
       "      <td>28.915917</td>\n",
       "      <td>28.941554</td>\n",
       "      <td>28.824253</td>\n",
       "      <td>28.779530</td>\n",
       "      <td>29.036963</td>\n",
       "      <td>28.949208</td>\n",
       "      <td>29.052083</td>\n",
       "      <td>28.868849</td>\n",
       "    </tr>\n",
       "    <tr>\n",
       "      <th>min</th>\n",
       "      <td>3.590434e+17</td>\n",
       "      <td>0.000000</td>\n",
       "      <td>3.110500</td>\n",
       "      <td>0.000000</td>\n",
       "      <td>4.550230</td>\n",
       "      <td>2.936650</td>\n",
       "      <td>2.360010</td>\n",
       "      <td>6.172530</td>\n",
       "      <td>3.716390</td>\n",
       "      <td>0.000000</td>\n",
       "      <td>...</td>\n",
       "      <td>0.000000</td>\n",
       "      <td>0.000000</td>\n",
       "      <td>0.000000</td>\n",
       "      <td>0.000000</td>\n",
       "      <td>0.000000</td>\n",
       "      <td>0.000000</td>\n",
       "      <td>0.000000</td>\n",
       "      <td>0.000000</td>\n",
       "      <td>0.000000</td>\n",
       "      <td>0.000000</td>\n",
       "    </tr>\n",
       "    <tr>\n",
       "      <th>25%</th>\n",
       "      <td>8.630331e+17</td>\n",
       "      <td>0.000000</td>\n",
       "      <td>9.853388</td>\n",
       "      <td>9.965942</td>\n",
       "      <td>12.253902</td>\n",
       "      <td>11.168423</td>\n",
       "      <td>10.094302</td>\n",
       "      <td>13.155487</td>\n",
       "      <td>11.415978</td>\n",
       "      <td>44.749185</td>\n",
       "      <td>...</td>\n",
       "      <td>38.623005</td>\n",
       "      <td>24.690973</td>\n",
       "      <td>24.440675</td>\n",
       "      <td>24.915435</td>\n",
       "      <td>25.271123</td>\n",
       "      <td>25.606243</td>\n",
       "      <td>24.552067</td>\n",
       "      <td>24.592910</td>\n",
       "      <td>24.234525</td>\n",
       "      <td>24.769848</td>\n",
       "    </tr>\n",
       "    <tr>\n",
       "      <th>50%</th>\n",
       "      <td>3.590434e+18</td>\n",
       "      <td>1.000000</td>\n",
       "      <td>11.099845</td>\n",
       "      <td>11.601655</td>\n",
       "      <td>13.846610</td>\n",
       "      <td>13.135550</td>\n",
       "      <td>11.631625</td>\n",
       "      <td>14.318000</td>\n",
       "      <td>13.358530</td>\n",
       "      <td>54.129555</td>\n",
       "      <td>...</td>\n",
       "      <td>47.214555</td>\n",
       "      <td>49.279675</td>\n",
       "      <td>49.627770</td>\n",
       "      <td>50.379485</td>\n",
       "      <td>50.065190</td>\n",
       "      <td>50.386350</td>\n",
       "      <td>49.941625</td>\n",
       "      <td>49.563415</td>\n",
       "      <td>50.072235</td>\n",
       "      <td>49.543865</td>\n",
       "    </tr>\n",
       "    <tr>\n",
       "      <th>75%</th>\n",
       "      <td>8.630331e+18</td>\n",
       "      <td>1.000000</td>\n",
       "      <td>12.556738</td>\n",
       "      <td>13.592090</td>\n",
       "      <td>15.252290</td>\n",
       "      <td>14.970375</td>\n",
       "      <td>13.631315</td>\n",
       "      <td>15.469337</td>\n",
       "      <td>14.982325</td>\n",
       "      <td>63.305960</td>\n",
       "      <td>...</td>\n",
       "      <td>55.891710</td>\n",
       "      <td>74.871792</td>\n",
       "      <td>74.791145</td>\n",
       "      <td>74.941405</td>\n",
       "      <td>75.358277</td>\n",
       "      <td>75.183132</td>\n",
       "      <td>75.389985</td>\n",
       "      <td>75.026663</td>\n",
       "      <td>74.791150</td>\n",
       "      <td>74.949430</td>\n",
       "    </tr>\n",
       "    <tr>\n",
       "      <th>max</th>\n",
       "      <td>8.630331e+18</td>\n",
       "      <td>1.000000</td>\n",
       "      <td>22.084980</td>\n",
       "      <td>23.338080</td>\n",
       "      <td>22.717330</td>\n",
       "      <td>21.937050</td>\n",
       "      <td>20.892390</td>\n",
       "      <td>22.418190</td>\n",
       "      <td>22.254860</td>\n",
       "      <td>100.000000</td>\n",
       "      <td>...</td>\n",
       "      <td>100.000000</td>\n",
       "      <td>100.000000</td>\n",
       "      <td>100.000000</td>\n",
       "      <td>100.000000</td>\n",
       "      <td>100.000000</td>\n",
       "      <td>100.000000</td>\n",
       "      <td>100.000000</td>\n",
       "      <td>100.000000</td>\n",
       "      <td>100.000000</td>\n",
       "      <td>100.000000</td>\n",
       "    </tr>\n",
       "  </tbody>\n",
       "</table>\n",
       "<p>8 rows × 22 columns</p>\n",
       "</div>"
      ],
      "text/plain": [
       "               imei          mwra  p.android.packageinstaller  \\\n",
       "count  1.516200e+04  15162.000000                15162.000000   \n",
       "mean   3.923871e+18      0.626698                   11.326046   \n",
       "std    3.321549e+18      0.483697                    2.209583   \n",
       "min    3.590434e+17      0.000000                    3.110500   \n",
       "25%    8.630331e+17      0.000000                    9.853388   \n",
       "50%    3.590434e+18      1.000000                   11.099845   \n",
       "75%    8.630331e+18      1.000000                   12.556738   \n",
       "max    8.630331e+18      1.000000                   22.084980   \n",
       "\n",
       "       p.android.documentsui      p.system  p.android.externalstorage  \\\n",
       "count           15162.000000  15162.000000               15162.000000   \n",
       "mean               11.848870     13.670559                  13.055184   \n",
       "std                 2.738104      2.277519                   2.675060   \n",
       "min                 0.000000      4.550230                   2.936650   \n",
       "25%                 9.965942     12.253902                  11.168423   \n",
       "50%                11.601655     13.846610                  13.135550   \n",
       "75%                13.592090     15.252290                  14.970375   \n",
       "max                23.338080     22.717330                  21.937050   \n",
       "\n",
       "       p.android.chrome  p.android.settings  p.android.gm  \\\n",
       "count      15162.000000        15162.000000  15162.000000   \n",
       "mean          11.881308           14.310053     13.132933   \n",
       "std            2.559545            1.803823      2.624266   \n",
       "min            2.360010            6.172530      3.716390   \n",
       "25%           10.094302           13.155487     11.415978   \n",
       "50%           11.631625           14.318000     13.358530   \n",
       "75%           13.631315           15.469337     14.982325   \n",
       "max           20.892390           22.418190     22.254860   \n",
       "\n",
       "       p.inputmethod.latin  ...    p.notifier      p.katana      p.google  \\\n",
       "count         15162.000000  ...  15162.000000  15162.000000  15162.000000   \n",
       "mean             54.037651  ...     47.207102     49.681392     49.686647   \n",
       "std              13.564650  ...     12.849429     28.975010     28.915917   \n",
       "min               0.000000  ...      0.000000      0.000000      0.000000   \n",
       "25%              44.749185  ...     38.623005     24.690973     24.440675   \n",
       "50%              54.129555  ...     47.214555     49.279675     49.627770   \n",
       "75%              63.305960  ...     55.891710     74.871792     74.791145   \n",
       "max             100.000000  ...    100.000000    100.000000    100.000000   \n",
       "\n",
       "       p.android.defcontainer   p.simulator  p.android.gms    p.dogalize  \\\n",
       "count            15162.000000  15162.000000   15162.000000  15162.000000   \n",
       "mean                50.041205     50.289712      50.226288     49.865521   \n",
       "std                 28.941554     28.824253      28.779530     29.036963   \n",
       "min                  0.000000      0.000000       0.000000      0.000000   \n",
       "25%                 24.915435     25.271123      25.606243     24.552067   \n",
       "50%                 50.379485     50.065190      50.386350     49.941625   \n",
       "75%                 74.941405     75.358277      75.183132     75.389985   \n",
       "max                100.000000    100.000000     100.000000    100.000000   \n",
       "\n",
       "       p.gms.persistent  p.browser.provider   p.olauncher  \n",
       "count      15162.000000        15162.000000  15162.000000  \n",
       "mean          49.877674           49.605885     49.839759  \n",
       "std           28.949208           29.052083     28.868849  \n",
       "min            0.000000            0.000000      0.000000  \n",
       "25%           24.592910           24.234525     24.769848  \n",
       "50%           49.563415           50.072235     49.543865  \n",
       "75%           75.026663           74.791150     74.949430  \n",
       "max          100.000000          100.000000    100.000000  \n",
       "\n",
       "[8 rows x 22 columns]"
      ]
     },
     "execution_count": 99,
     "metadata": {},
     "output_type": "execute_result"
    }
   ],
   "source": [
    "processes.info()\n",
    "processes.describe()"
   ]
  },
  {
   "cell_type": "markdown",
   "metadata": {},
   "source": [
    "Vidíme, že tabuľka processes neobsahuje žiadne nedefinované záznamy. Ďalej môžeme sledovať, že priemer a štandardná odchylka infikovanosti zariadení sa zhoduje s priemerom a štandardnou odchylkou v tabuľke connections. Sledujeme, že tabuľka obsahuje 2 kategorické atribúty mwra a imei a 21 spojitých atribútov. "
   ]
  },
  {
   "cell_type": "code",
   "execution_count": 100,
   "metadata": {},
   "outputs": [
    {
     "data": {
      "text/html": [
       "<div>\n",
       "<style scoped>\n",
       "    .dataframe tbody tr th:only-of-type {\n",
       "        vertical-align: middle;\n",
       "    }\n",
       "\n",
       "    .dataframe tbody tr th {\n",
       "        vertical-align: top;\n",
       "    }\n",
       "\n",
       "    .dataframe thead th {\n",
       "        text-align: right;\n",
       "    }\n",
       "</style>\n",
       "<table border=\"1\" class=\"dataframe\">\n",
       "  <thead>\n",
       "    <tr style=\"text-align: right;\">\n",
       "      <th></th>\n",
       "      <th>name</th>\n",
       "      <th>ssn</th>\n",
       "      <th>birthdate</th>\n",
       "      <th>company</th>\n",
       "      <th>current_location</th>\n",
       "      <th>imei</th>\n",
       "      <th>user_id</th>\n",
       "      <th>address</th>\n",
       "      <th>username</th>\n",
       "      <th>registration</th>\n",
       "      <th>mail</th>\n",
       "      <th>job</th>\n",
       "    </tr>\n",
       "  </thead>\n",
       "  <tbody>\n",
       "    <tr>\n",
       "      <th>0</th>\n",
       "      <td>Adam Buckley</td>\n",
       "      <td>256-10-3282</td>\n",
       "      <td>NaN</td>\n",
       "      <td>Thompson PLC</td>\n",
       "      <td>(Decimal('-27.796214'), Decimal('35.724897'))</td>\n",
       "      <td>8630330696303481321</td>\n",
       "      <td>261</td>\n",
       "      <td>2356 Kelly Stravenue\\nNorth Nicholechester, WV...</td>\n",
       "      <td>brandyvaughn</td>\n",
       "      <td>11/03/2019, 00:00:00</td>\n",
       "      <td>brooksmelinda@hotmail.com</td>\n",
       "      <td>Engineer, maintenance</td>\n",
       "    </tr>\n",
       "    <tr>\n",
       "      <th>1</th>\n",
       "      <td>William Mccall</td>\n",
       "      <td>836-85-9036</td>\n",
       "      <td>NaN</td>\n",
       "      <td>Brewer, Jones and Simpson</td>\n",
       "      <td>NaN</td>\n",
       "      <td>359043379931766197</td>\n",
       "      <td>1432</td>\n",
       "      <td>83245 Jack Port Suite 186\\nHeathermouth, MP 26449</td>\n",
       "      <td>daniel34</td>\n",
       "      <td>07 May 2023</td>\n",
       "      <td>michellehaley@gmail.com</td>\n",
       "      <td>NaN</td>\n",
       "    </tr>\n",
       "    <tr>\n",
       "      <th>2</th>\n",
       "      <td>Tabitha Silva</td>\n",
       "      <td>316-02-7078</td>\n",
       "      <td>2013-01-13</td>\n",
       "      <td>James Group</td>\n",
       "      <td>(Decimal('75.6463495'), Decimal('-101.730814'))</td>\n",
       "      <td>3590433799317661321</td>\n",
       "      <td>340</td>\n",
       "      <td>6584 Jody Flat\\nMichaelport, DC 53671</td>\n",
       "      <td>ashley60</td>\n",
       "      <td>03/16/2019, 00:00:00</td>\n",
       "      <td>xmartinez@yahoo.com</td>\n",
       "      <td>NaN</td>\n",
       "    </tr>\n",
       "    <tr>\n",
       "      <th>3</th>\n",
       "      <td>Diane Perez</td>\n",
       "      <td>207-68-5498</td>\n",
       "      <td>1944-07-28</td>\n",
       "      <td>Warren, Frank and Cox</td>\n",
       "      <td>(Decimal('-78.0240235'), Decimal('-40.012949'))</td>\n",
       "      <td>8630330696303481362</td>\n",
       "      <td>447</td>\n",
       "      <td>6554 Fox Haven\\nStokesstad, IA 11756</td>\n",
       "      <td>richardhoward</td>\n",
       "      <td>04/07/2018, 00:00:00</td>\n",
       "      <td>fischerlindsey@gmail.com</td>\n",
       "      <td>NaN</td>\n",
       "    </tr>\n",
       "    <tr>\n",
       "      <th>4</th>\n",
       "      <td>Mrs. Sharon Villegas</td>\n",
       "      <td>389-65-1005</td>\n",
       "      <td>NaN</td>\n",
       "      <td>Green-Richardson</td>\n",
       "      <td>(Decimal('62.4863645'), Decimal('112.231295'))</td>\n",
       "      <td>8630330696303482287</td>\n",
       "      <td>1342</td>\n",
       "      <td>67336 Peter Rue\\nKathyland, AK 30553</td>\n",
       "      <td>mcbrideshaun</td>\n",
       "      <td>2022/05/21</td>\n",
       "      <td>gilbertwilliam@yahoo.com</td>\n",
       "      <td>NaN</td>\n",
       "    </tr>\n",
       "  </tbody>\n",
       "</table>\n",
       "</div>"
      ],
      "text/plain": [
       "                   name          ssn   birthdate                    company  \\\n",
       "0          Adam Buckley  256-10-3282         NaN               Thompson PLC   \n",
       "1        William Mccall  836-85-9036         NaN  Brewer, Jones and Simpson   \n",
       "2         Tabitha Silva  316-02-7078  2013-01-13                James Group   \n",
       "3           Diane Perez  207-68-5498  1944-07-28      Warren, Frank and Cox   \n",
       "4  Mrs. Sharon Villegas  389-65-1005         NaN           Green-Richardson   \n",
       "\n",
       "                                  current_location                 imei  \\\n",
       "0    (Decimal('-27.796214'), Decimal('35.724897'))  8630330696303481321   \n",
       "1                                              NaN   359043379931766197   \n",
       "2  (Decimal('75.6463495'), Decimal('-101.730814'))  3590433799317661321   \n",
       "3  (Decimal('-78.0240235'), Decimal('-40.012949'))  8630330696303481362   \n",
       "4   (Decimal('62.4863645'), Decimal('112.231295'))  8630330696303482287   \n",
       "\n",
       "   user_id                                            address       username  \\\n",
       "0      261  2356 Kelly Stravenue\\nNorth Nicholechester, WV...   brandyvaughn   \n",
       "1     1432  83245 Jack Port Suite 186\\nHeathermouth, MP 26449       daniel34   \n",
       "2      340              6584 Jody Flat\\nMichaelport, DC 53671       ashley60   \n",
       "3      447               6554 Fox Haven\\nStokesstad, IA 11756  richardhoward   \n",
       "4     1342               67336 Peter Rue\\nKathyland, AK 30553   mcbrideshaun   \n",
       "\n",
       "           registration                       mail                    job  \n",
       "0  11/03/2019, 00:00:00  brooksmelinda@hotmail.com  Engineer, maintenance  \n",
       "1           07 May 2023    michellehaley@gmail.com                    NaN  \n",
       "2  03/16/2019, 00:00:00        xmartinez@yahoo.com                    NaN  \n",
       "3  04/07/2018, 00:00:00   fischerlindsey@gmail.com                    NaN  \n",
       "4            2022/05/21   gilbertwilliam@yahoo.com                    NaN  "
      ]
     },
     "execution_count": 100,
     "metadata": {},
     "output_type": "execute_result"
    }
   ],
   "source": [
    "profiles.head()"
   ]
  },
  {
   "cell_type": "code",
   "execution_count": 101,
   "metadata": {},
   "outputs": [
    {
     "name": "stdout",
     "output_type": "stream",
     "text": [
      "<class 'pandas.core.frame.DataFrame'>\n",
      "RangeIndex: 2518 entries, 0 to 2517\n",
      "Data columns (total 12 columns):\n",
      " #   Column            Non-Null Count  Dtype \n",
      "---  ------            --------------  ----- \n",
      " 0   name              2518 non-null   object\n",
      " 1   ssn               2518 non-null   object\n",
      " 2   birthdate         1385 non-null   object\n",
      " 3   company           2518 non-null   object\n",
      " 4   current_location  2392 non-null   object\n",
      " 5   imei              2518 non-null   int64 \n",
      " 6   user_id           2518 non-null   int64 \n",
      " 7   address           2140 non-null   object\n",
      " 8   username          2518 non-null   object\n",
      " 9   registration      2518 non-null   object\n",
      " 10  mail              2518 non-null   object\n",
      " 11  job               755 non-null    object\n",
      "dtypes: int64(2), object(10)\n",
      "memory usage: 236.2+ KB\n"
     ]
    },
    {
     "data": {
      "text/html": [
       "<div>\n",
       "<style scoped>\n",
       "    .dataframe tbody tr th:only-of-type {\n",
       "        vertical-align: middle;\n",
       "    }\n",
       "\n",
       "    .dataframe tbody tr th {\n",
       "        vertical-align: top;\n",
       "    }\n",
       "\n",
       "    .dataframe thead th {\n",
       "        text-align: right;\n",
       "    }\n",
       "</style>\n",
       "<table border=\"1\" class=\"dataframe\">\n",
       "  <thead>\n",
       "    <tr style=\"text-align: right;\">\n",
       "      <th></th>\n",
       "      <th>imei</th>\n",
       "      <th>user_id</th>\n",
       "    </tr>\n",
       "  </thead>\n",
       "  <tbody>\n",
       "    <tr>\n",
       "      <th>count</th>\n",
       "      <td>2.518000e+03</td>\n",
       "      <td>2518.000000</td>\n",
       "    </tr>\n",
       "    <tr>\n",
       "      <th>mean</th>\n",
       "      <td>3.805736e+18</td>\n",
       "      <td>1255.986100</td>\n",
       "    </tr>\n",
       "    <tr>\n",
       "      <th>std</th>\n",
       "      <td>3.317665e+18</td>\n",
       "      <td>725.617082</td>\n",
       "    </tr>\n",
       "    <tr>\n",
       "      <th>min</th>\n",
       "      <td>3.590434e+17</td>\n",
       "      <td>0.000000</td>\n",
       "    </tr>\n",
       "    <tr>\n",
       "      <th>25%</th>\n",
       "      <td>8.630331e+17</td>\n",
       "      <td>629.000000</td>\n",
       "    </tr>\n",
       "    <tr>\n",
       "      <th>50%</th>\n",
       "      <td>3.590434e+18</td>\n",
       "      <td>1247.000000</td>\n",
       "    </tr>\n",
       "    <tr>\n",
       "      <th>75%</th>\n",
       "      <td>8.630331e+18</td>\n",
       "      <td>1881.500000</td>\n",
       "    </tr>\n",
       "    <tr>\n",
       "      <th>max</th>\n",
       "      <td>8.630331e+18</td>\n",
       "      <td>2517.000000</td>\n",
       "    </tr>\n",
       "  </tbody>\n",
       "</table>\n",
       "</div>"
      ],
      "text/plain": [
       "               imei      user_id\n",
       "count  2.518000e+03  2518.000000\n",
       "mean   3.805736e+18  1255.986100\n",
       "std    3.317665e+18   725.617082\n",
       "min    3.590434e+17     0.000000\n",
       "25%    8.630331e+17   629.000000\n",
       "50%    3.590434e+18  1247.000000\n",
       "75%    8.630331e+18  1881.500000\n",
       "max    8.630331e+18  2517.000000"
      ]
     },
     "execution_count": 101,
     "metadata": {},
     "output_type": "execute_result"
    }
   ],
   "source": [
    "profiles.info()\n",
    "profiles.describe()"
   ]
  },
  {
   "cell_type": "markdown",
   "metadata": {},
   "source": [
    "Sledujeme, že je v tabuľke profiles veľa hodnôt nedefinovaných. Ako príkladom môže slúžiť atribút job, ktorý má hodnotu len v 755 záznamoch z celkových 2518 záznamov. Takéto atribúty nemá cenu brať do úvahy, a preto ich neskôr odstránime. Zas atribút current location väčšinu hodnôt má, tak zvyšné si dodefinujeme. Celkovo má tabuľka 3 spojité atribúty, t.j. current_location, birthdate a registration, a 9 kategorických."
   ]
  },
  {
   "cell_type": "markdown",
   "metadata": {},
   "source": [
    "## Počet riadkov a atribútov"
   ]
  },
  {
   "cell_type": "code",
   "execution_count": 102,
   "metadata": {},
   "outputs": [
    {
     "name": "stdout",
     "output_type": "stream",
     "text": [
      "connections:(15162, 13)\n",
      "devices:(2982, 6)\n",
      "processes:(15162, 23)\n",
      "profiles:(2518, 12)\n"
     ]
    }
   ],
   "source": [
    "print('connections:' + str(connections.shape))\n",
    "print('devices:' + str(devices.shape))\n",
    "print('processes:' + str(processes.shape))\n",
    "print('profiles:' + str(profiles.shape))"
   ]
  },
  {
   "cell_type": "markdown",
   "metadata": {},
   "source": [
    "# Null values"
   ]
  },
  {
   "cell_type": "code",
   "execution_count": 103,
   "metadata": {},
   "outputs": [
    {
     "data": {
      "text/html": [
       "<div>\n",
       "<style scoped>\n",
       "    .dataframe tbody tr th:only-of-type {\n",
       "        vertical-align: middle;\n",
       "    }\n",
       "\n",
       "    .dataframe tbody tr th {\n",
       "        vertical-align: top;\n",
       "    }\n",
       "\n",
       "    .dataframe thead th {\n",
       "        text-align: right;\n",
       "    }\n",
       "</style>\n",
       "<table border=\"1\" class=\"dataframe\">\n",
       "  <thead>\n",
       "    <tr style=\"text-align: right;\">\n",
       "      <th></th>\n",
       "      <th>ts</th>\n",
       "      <th>imei</th>\n",
       "      <th>mwra</th>\n",
       "      <th>c.android.youtube</th>\n",
       "      <th>c.android.chrome</th>\n",
       "      <th>c.android.gm</th>\n",
       "      <th>c.dogalize</th>\n",
       "      <th>c.katana</th>\n",
       "      <th>c.UCMobile.x86</th>\n",
       "      <th>c.updateassist</th>\n",
       "      <th>c.android.vending</th>\n",
       "      <th>c.UCMobile.intl</th>\n",
       "      <th>c.raider</th>\n",
       "    </tr>\n",
       "  </thead>\n",
       "  <tbody>\n",
       "  </tbody>\n",
       "</table>\n",
       "</div>"
      ],
      "text/plain": [
       "Empty DataFrame\n",
       "Columns: [ts, imei, mwra, c.android.youtube, c.android.chrome, c.android.gm, c.dogalize, c.katana, c.UCMobile.x86, c.updateassist, c.android.vending, c.UCMobile.intl, c.raider]\n",
       "Index: []"
      ]
     },
     "execution_count": 103,
     "metadata": {},
     "output_type": "execute_result"
    }
   ],
   "source": [
    "connections[connections.isnull().any(axis=1)]"
   ]
  },
  {
   "cell_type": "code",
   "execution_count": 104,
   "metadata": {},
   "outputs": [
    {
     "data": {
      "text/html": [
       "<div>\n",
       "<style scoped>\n",
       "    .dataframe tbody tr th:only-of-type {\n",
       "        vertical-align: middle;\n",
       "    }\n",
       "\n",
       "    .dataframe tbody tr th {\n",
       "        vertical-align: top;\n",
       "    }\n",
       "\n",
       "    .dataframe thead th {\n",
       "        text-align: right;\n",
       "    }\n",
       "</style>\n",
       "<table border=\"1\" class=\"dataframe\">\n",
       "  <thead>\n",
       "    <tr style=\"text-align: right;\">\n",
       "      <th></th>\n",
       "      <th>latitude</th>\n",
       "      <th>longitude</th>\n",
       "      <th>store_name</th>\n",
       "      <th>code</th>\n",
       "      <th>location</th>\n",
       "      <th>imei</th>\n",
       "    </tr>\n",
       "  </thead>\n",
       "  <tbody>\n",
       "    <tr>\n",
       "      <th>1829</th>\n",
       "      <td>-21.98333</td>\n",
       "      <td>16.91667</td>\n",
       "      <td>Okahandja</td>\n",
       "      <td>NaN</td>\n",
       "      <td>Africa/Windhoek</td>\n",
       "      <td>863033069630348545</td>\n",
       "    </tr>\n",
       "    <tr>\n",
       "      <th>2850</th>\n",
       "      <td>-21.98333</td>\n",
       "      <td>16.91667</td>\n",
       "      <td>Okahandja</td>\n",
       "      <td>NaN</td>\n",
       "      <td>Africa/Windhoek</td>\n",
       "      <td>3590433799317661016</td>\n",
       "    </tr>\n",
       "  </tbody>\n",
       "</table>\n",
       "</div>"
      ],
      "text/plain": [
       "      latitude  longitude store_name code         location  \\\n",
       "1829 -21.98333   16.91667  Okahandja  NaN  Africa/Windhoek   \n",
       "2850 -21.98333   16.91667  Okahandja  NaN  Africa/Windhoek   \n",
       "\n",
       "                     imei  \n",
       "1829   863033069630348545  \n",
       "2850  3590433799317661016  "
      ]
     },
     "execution_count": 104,
     "metadata": {},
     "output_type": "execute_result"
    }
   ],
   "source": [
    "devices[devices.isnull().any(axis=1)]"
   ]
  },
  {
   "cell_type": "markdown",
   "metadata": {},
   "source": [
    "Vidíme, že tabuľka devices má len 2 nedefinované hodnoty, a to v atribúte code, ktorý reprezentuje kód krajiny. Ten ale vieme jednoducho doplniť vďaka informácii z atribútu location."
   ]
  },
  {
   "cell_type": "code",
   "execution_count": 105,
   "metadata": {},
   "outputs": [
    {
     "data": {
      "text/html": [
       "<div>\n",
       "<style scoped>\n",
       "    .dataframe tbody tr th:only-of-type {\n",
       "        vertical-align: middle;\n",
       "    }\n",
       "\n",
       "    .dataframe tbody tr th {\n",
       "        vertical-align: top;\n",
       "    }\n",
       "\n",
       "    .dataframe thead th {\n",
       "        text-align: right;\n",
       "    }\n",
       "</style>\n",
       "<table border=\"1\" class=\"dataframe\">\n",
       "  <thead>\n",
       "    <tr style=\"text-align: right;\">\n",
       "      <th></th>\n",
       "      <th>ts</th>\n",
       "      <th>imei</th>\n",
       "      <th>mwra</th>\n",
       "      <th>p.android.packageinstaller</th>\n",
       "      <th>p.android.documentsui</th>\n",
       "      <th>p.system</th>\n",
       "      <th>p.android.externalstorage</th>\n",
       "      <th>p.android.chrome</th>\n",
       "      <th>p.android.settings</th>\n",
       "      <th>p.android.gm</th>\n",
       "      <th>...</th>\n",
       "      <th>p.notifier</th>\n",
       "      <th>p.katana</th>\n",
       "      <th>p.google</th>\n",
       "      <th>p.android.defcontainer</th>\n",
       "      <th>p.simulator</th>\n",
       "      <th>p.android.gms</th>\n",
       "      <th>p.dogalize</th>\n",
       "      <th>p.gms.persistent</th>\n",
       "      <th>p.browser.provider</th>\n",
       "      <th>p.olauncher</th>\n",
       "    </tr>\n",
       "  </thead>\n",
       "  <tbody>\n",
       "  </tbody>\n",
       "</table>\n",
       "<p>0 rows × 23 columns</p>\n",
       "</div>"
      ],
      "text/plain": [
       "Empty DataFrame\n",
       "Columns: [ts, imei, mwra, p.android.packageinstaller, p.android.documentsui, p.system, p.android.externalstorage, p.android.chrome, p.android.settings, p.android.gm, p.inputmethod.latin, p.android.vending, p.process.gapps, p.notifier, p.katana, p.google, p.android.defcontainer, p.simulator, p.android.gms, p.dogalize, p.gms.persistent, p.browser.provider, p.olauncher]\n",
       "Index: []\n",
       "\n",
       "[0 rows x 23 columns]"
      ]
     },
     "execution_count": 105,
     "metadata": {},
     "output_type": "execute_result"
    }
   ],
   "source": [
    "processes[processes.isnull().any(axis=1)]"
   ]
  },
  {
   "cell_type": "code",
   "execution_count": 106,
   "metadata": {},
   "outputs": [
    {
     "data": {
      "text/html": [
       "<div>\n",
       "<style scoped>\n",
       "    .dataframe tbody tr th:only-of-type {\n",
       "        vertical-align: middle;\n",
       "    }\n",
       "\n",
       "    .dataframe tbody tr th {\n",
       "        vertical-align: top;\n",
       "    }\n",
       "\n",
       "    .dataframe thead th {\n",
       "        text-align: right;\n",
       "    }\n",
       "</style>\n",
       "<table border=\"1\" class=\"dataframe\">\n",
       "  <thead>\n",
       "    <tr style=\"text-align: right;\">\n",
       "      <th></th>\n",
       "      <th>name</th>\n",
       "      <th>ssn</th>\n",
       "      <th>birthdate</th>\n",
       "      <th>company</th>\n",
       "      <th>current_location</th>\n",
       "      <th>imei</th>\n",
       "      <th>user_id</th>\n",
       "      <th>address</th>\n",
       "      <th>username</th>\n",
       "      <th>registration</th>\n",
       "      <th>mail</th>\n",
       "      <th>job</th>\n",
       "    </tr>\n",
       "  </thead>\n",
       "  <tbody>\n",
       "    <tr>\n",
       "      <th>0</th>\n",
       "      <td>Adam Buckley</td>\n",
       "      <td>256-10-3282</td>\n",
       "      <td>NaN</td>\n",
       "      <td>Thompson PLC</td>\n",
       "      <td>(Decimal('-27.796214'), Decimal('35.724897'))</td>\n",
       "      <td>8630330696303481321</td>\n",
       "      <td>261</td>\n",
       "      <td>2356 Kelly Stravenue\\nNorth Nicholechester, WV...</td>\n",
       "      <td>brandyvaughn</td>\n",
       "      <td>11/03/2019, 00:00:00</td>\n",
       "      <td>brooksmelinda@hotmail.com</td>\n",
       "      <td>Engineer, maintenance</td>\n",
       "    </tr>\n",
       "    <tr>\n",
       "      <th>1</th>\n",
       "      <td>William Mccall</td>\n",
       "      <td>836-85-9036</td>\n",
       "      <td>NaN</td>\n",
       "      <td>Brewer, Jones and Simpson</td>\n",
       "      <td>NaN</td>\n",
       "      <td>359043379931766197</td>\n",
       "      <td>1432</td>\n",
       "      <td>83245 Jack Port Suite 186\\nHeathermouth, MP 26449</td>\n",
       "      <td>daniel34</td>\n",
       "      <td>07 May 2023</td>\n",
       "      <td>michellehaley@gmail.com</td>\n",
       "      <td>NaN</td>\n",
       "    </tr>\n",
       "    <tr>\n",
       "      <th>2</th>\n",
       "      <td>Tabitha Silva</td>\n",
       "      <td>316-02-7078</td>\n",
       "      <td>2013-01-13</td>\n",
       "      <td>James Group</td>\n",
       "      <td>(Decimal('75.6463495'), Decimal('-101.730814'))</td>\n",
       "      <td>3590433799317661321</td>\n",
       "      <td>340</td>\n",
       "      <td>6584 Jody Flat\\nMichaelport, DC 53671</td>\n",
       "      <td>ashley60</td>\n",
       "      <td>03/16/2019, 00:00:00</td>\n",
       "      <td>xmartinez@yahoo.com</td>\n",
       "      <td>NaN</td>\n",
       "    </tr>\n",
       "    <tr>\n",
       "      <th>3</th>\n",
       "      <td>Diane Perez</td>\n",
       "      <td>207-68-5498</td>\n",
       "      <td>1944-07-28</td>\n",
       "      <td>Warren, Frank and Cox</td>\n",
       "      <td>(Decimal('-78.0240235'), Decimal('-40.012949'))</td>\n",
       "      <td>8630330696303481362</td>\n",
       "      <td>447</td>\n",
       "      <td>6554 Fox Haven\\nStokesstad, IA 11756</td>\n",
       "      <td>richardhoward</td>\n",
       "      <td>04/07/2018, 00:00:00</td>\n",
       "      <td>fischerlindsey@gmail.com</td>\n",
       "      <td>NaN</td>\n",
       "    </tr>\n",
       "    <tr>\n",
       "      <th>4</th>\n",
       "      <td>Mrs. Sharon Villegas</td>\n",
       "      <td>389-65-1005</td>\n",
       "      <td>NaN</td>\n",
       "      <td>Green-Richardson</td>\n",
       "      <td>(Decimal('62.4863645'), Decimal('112.231295'))</td>\n",
       "      <td>8630330696303482287</td>\n",
       "      <td>1342</td>\n",
       "      <td>67336 Peter Rue\\nKathyland, AK 30553</td>\n",
       "      <td>mcbrideshaun</td>\n",
       "      <td>2022/05/21</td>\n",
       "      <td>gilbertwilliam@yahoo.com</td>\n",
       "      <td>NaN</td>\n",
       "    </tr>\n",
       "    <tr>\n",
       "      <th>...</th>\n",
       "      <td>...</td>\n",
       "      <td>...</td>\n",
       "      <td>...</td>\n",
       "      <td>...</td>\n",
       "      <td>...</td>\n",
       "      <td>...</td>\n",
       "      <td>...</td>\n",
       "      <td>...</td>\n",
       "      <td>...</td>\n",
       "      <td>...</td>\n",
       "      <td>...</td>\n",
       "      <td>...</td>\n",
       "    </tr>\n",
       "    <tr>\n",
       "      <th>2511</th>\n",
       "      <td>Anthony Charles</td>\n",
       "      <td>575-56-3211</td>\n",
       "      <td>1942-01-26</td>\n",
       "      <td>Franklin, Palmer and Burns</td>\n",
       "      <td>(Decimal('-13.512617'), Decimal('112.161223'))</td>\n",
       "      <td>3590433799317662188</td>\n",
       "      <td>195</td>\n",
       "      <td>87681 Donald Stream Apt. 859\\nPort Stephen, DE...</td>\n",
       "      <td>hholland</td>\n",
       "      <td>2018/08/10</td>\n",
       "      <td>fcalderon@hotmail.com</td>\n",
       "      <td>NaN</td>\n",
       "    </tr>\n",
       "    <tr>\n",
       "      <th>2512</th>\n",
       "      <td>Jessica Vargas</td>\n",
       "      <td>200-19-0810</td>\n",
       "      <td>NaN</td>\n",
       "      <td>Meyer-Hines</td>\n",
       "      <td>(Decimal('35.0437145'), Decimal('65.906809'))</td>\n",
       "      <td>3590433799317661222</td>\n",
       "      <td>2153</td>\n",
       "      <td>2953 Paul Station\\nCalhounborough, MI 41391</td>\n",
       "      <td>travis21</td>\n",
       "      <td>18 Jan 2023</td>\n",
       "      <td>kirkwilliam@hotmail.com</td>\n",
       "      <td>NaN</td>\n",
       "    </tr>\n",
       "    <tr>\n",
       "      <th>2513</th>\n",
       "      <td>Jennifer Walker</td>\n",
       "      <td>777-48-0523</td>\n",
       "      <td>1988-08-24</td>\n",
       "      <td>Baldwin, Sweeney and Campbell</td>\n",
       "      <td>(Decimal('46.5649145'), Decimal('-19.471836'))</td>\n",
       "      <td>8630330696303481636</td>\n",
       "      <td>1283</td>\n",
       "      <td>482 Ashley Heights Suite 415\\nHamiltonport, OH...</td>\n",
       "      <td>randalljohn</td>\n",
       "      <td>2019/07/27</td>\n",
       "      <td>emckee@hotmail.com</td>\n",
       "      <td>NaN</td>\n",
       "    </tr>\n",
       "    <tr>\n",
       "      <th>2515</th>\n",
       "      <td>Antonio Wilson</td>\n",
       "      <td>471-27-0192</td>\n",
       "      <td>1911-06-13</td>\n",
       "      <td>Torres and Sons</td>\n",
       "      <td>(Decimal('-58.5421945'), Decimal('92.471667'))</td>\n",
       "      <td>3590433799317661560</td>\n",
       "      <td>947</td>\n",
       "      <td>3259 Shelia Locks\\nRobertstad, IN 31032</td>\n",
       "      <td>hughestravis</td>\n",
       "      <td>02/29/2020, 00:00:00</td>\n",
       "      <td>xrodriguez@gmail.com</td>\n",
       "      <td>NaN</td>\n",
       "    </tr>\n",
       "    <tr>\n",
       "      <th>2517</th>\n",
       "      <td>Benjamin Meyers</td>\n",
       "      <td>382-71-6741</td>\n",
       "      <td>NaN</td>\n",
       "      <td>Wilson Group</td>\n",
       "      <td>(Decimal('-15.111991'), Decimal('174.191759'))</td>\n",
       "      <td>863033069630348990</td>\n",
       "      <td>426</td>\n",
       "      <td>USS Smith\\nFPO AA 19215</td>\n",
       "      <td>smithbradley</td>\n",
       "      <td>2021-02-16</td>\n",
       "      <td>michael93@gmail.com</td>\n",
       "      <td>NaN</td>\n",
       "    </tr>\n",
       "  </tbody>\n",
       "</table>\n",
       "<p>2150 rows × 12 columns</p>\n",
       "</div>"
      ],
      "text/plain": [
       "                      name          ssn   birthdate  \\\n",
       "0             Adam Buckley  256-10-3282         NaN   \n",
       "1           William Mccall  836-85-9036         NaN   \n",
       "2            Tabitha Silva  316-02-7078  2013-01-13   \n",
       "3              Diane Perez  207-68-5498  1944-07-28   \n",
       "4     Mrs. Sharon Villegas  389-65-1005         NaN   \n",
       "...                    ...          ...         ...   \n",
       "2511       Anthony Charles  575-56-3211  1942-01-26   \n",
       "2512        Jessica Vargas  200-19-0810         NaN   \n",
       "2513       Jennifer Walker  777-48-0523  1988-08-24   \n",
       "2515        Antonio Wilson  471-27-0192  1911-06-13   \n",
       "2517       Benjamin Meyers  382-71-6741         NaN   \n",
       "\n",
       "                            company  \\\n",
       "0                      Thompson PLC   \n",
       "1         Brewer, Jones and Simpson   \n",
       "2                       James Group   \n",
       "3             Warren, Frank and Cox   \n",
       "4                  Green-Richardson   \n",
       "...                             ...   \n",
       "2511     Franklin, Palmer and Burns   \n",
       "2512                    Meyer-Hines   \n",
       "2513  Baldwin, Sweeney and Campbell   \n",
       "2515                Torres and Sons   \n",
       "2517                   Wilson Group   \n",
       "\n",
       "                                     current_location                 imei  \\\n",
       "0       (Decimal('-27.796214'), Decimal('35.724897'))  8630330696303481321   \n",
       "1                                                 NaN   359043379931766197   \n",
       "2     (Decimal('75.6463495'), Decimal('-101.730814'))  3590433799317661321   \n",
       "3     (Decimal('-78.0240235'), Decimal('-40.012949'))  8630330696303481362   \n",
       "4      (Decimal('62.4863645'), Decimal('112.231295'))  8630330696303482287   \n",
       "...                                               ...                  ...   \n",
       "2511   (Decimal('-13.512617'), Decimal('112.161223'))  3590433799317662188   \n",
       "2512    (Decimal('35.0437145'), Decimal('65.906809'))  3590433799317661222   \n",
       "2513   (Decimal('46.5649145'), Decimal('-19.471836'))  8630330696303481636   \n",
       "2515   (Decimal('-58.5421945'), Decimal('92.471667'))  3590433799317661560   \n",
       "2517   (Decimal('-15.111991'), Decimal('174.191759'))   863033069630348990   \n",
       "\n",
       "      user_id                                            address  \\\n",
       "0         261  2356 Kelly Stravenue\\nNorth Nicholechester, WV...   \n",
       "1        1432  83245 Jack Port Suite 186\\nHeathermouth, MP 26449   \n",
       "2         340              6584 Jody Flat\\nMichaelport, DC 53671   \n",
       "3         447               6554 Fox Haven\\nStokesstad, IA 11756   \n",
       "4        1342               67336 Peter Rue\\nKathyland, AK 30553   \n",
       "...       ...                                                ...   \n",
       "2511      195  87681 Donald Stream Apt. 859\\nPort Stephen, DE...   \n",
       "2512     2153        2953 Paul Station\\nCalhounborough, MI 41391   \n",
       "2513     1283  482 Ashley Heights Suite 415\\nHamiltonport, OH...   \n",
       "2515      947            3259 Shelia Locks\\nRobertstad, IN 31032   \n",
       "2517      426                            USS Smith\\nFPO AA 19215   \n",
       "\n",
       "           username          registration                       mail  \\\n",
       "0      brandyvaughn  11/03/2019, 00:00:00  brooksmelinda@hotmail.com   \n",
       "1          daniel34           07 May 2023    michellehaley@gmail.com   \n",
       "2          ashley60  03/16/2019, 00:00:00        xmartinez@yahoo.com   \n",
       "3     richardhoward  04/07/2018, 00:00:00   fischerlindsey@gmail.com   \n",
       "4      mcbrideshaun            2022/05/21   gilbertwilliam@yahoo.com   \n",
       "...             ...                   ...                        ...   \n",
       "2511       hholland            2018/08/10      fcalderon@hotmail.com   \n",
       "2512       travis21           18 Jan 2023    kirkwilliam@hotmail.com   \n",
       "2513    randalljohn            2019/07/27         emckee@hotmail.com   \n",
       "2515   hughestravis  02/29/2020, 00:00:00       xrodriguez@gmail.com   \n",
       "2517   smithbradley            2021-02-16        michael93@gmail.com   \n",
       "\n",
       "                        job  \n",
       "0     Engineer, maintenance  \n",
       "1                       NaN  \n",
       "2                       NaN  \n",
       "3                       NaN  \n",
       "4                       NaN  \n",
       "...                     ...  \n",
       "2511                    NaN  \n",
       "2512                    NaN  \n",
       "2513                    NaN  \n",
       "2515                    NaN  \n",
       "2517                    NaN  \n",
       "\n",
       "[2150 rows x 12 columns]"
      ]
     },
     "execution_count": 106,
     "metadata": {},
     "output_type": "execute_result"
    }
   ],
   "source": [
    "profiles[profiles.isnull().any(axis=1)]"
   ]
  },
  {
   "cell_type": "markdown",
   "metadata": {},
   "source": [
    "Vidíme, že tabuľka profiles obsahuje mnoho riadkov s nedefinovanými hodnotami v rôznych atribútoch. Konkrétnemu riešeniu sa budeme venovať neskôr."
   ]
  },
  {
   "cell_type": "markdown",
   "metadata": {},
   "source": [
    "# 1.1.B"
   ]
  },
  {
   "cell_type": "markdown",
   "metadata": {},
   "source": [
    "## Výber atribútov"
   ]
  },
  {
   "cell_type": "markdown",
   "metadata": {},
   "source": [
    "Ďalšia časť sa týka analýzy významných atribútov. Keďže o danom datasete ešte nepoznáme veľa informácií, ktoré by sme mohli považovať ako za dôležité, tak sa budeme orientovať hlavne na základe sémantických významov daných atribútov a taktiež ďalších, menších faktorov, t. j. typ (či sú kvalitatívne alebo kvantitatívne)."
   ]
  },
  {
   "cell_type": "markdown",
   "metadata": {},
   "source": [
    "## connections"
   ]
  },
  {
   "cell_type": "markdown",
   "metadata": {},
   "source": [
    "Táto tabuľka obsahuje atribúty, ktoré prevažne popisujú používanie (množstvo alebo čas) aplikácií na daných zariadeniach. Niektoré atribúty sú hneď známe a padnú do oka (napr. youtube, chrome), ale niektoré vyžadovali dodatočné vyhľadávanie informácií (t. j. katana je codename pre facebook, gm znamená gmail, atď.). Vzhľadom na popularitu jednotlivých aplikácií som sa rozhodol z tejto tabuľky zobrať nasledovných 5 atribútov: c.android.youtube, c.android.chrome, c.android.gm, c.katana a c.android.vending (Google App playstore)."
   ]
  },
  {
   "cell_type": "markdown",
   "metadata": {},
   "source": [
    "### c.android.youtube"
   ]
  },
  {
   "cell_type": "markdown",
   "metadata": {},
   "source": [
    "#### Distribúcia"
   ]
  },
  {
   "cell_type": "code",
   "execution_count": 107,
   "metadata": {},
   "outputs": [
    {
     "data": {
      "text/plain": [
       "<seaborn.axisgrid.FacetGrid at 0x712f3c59c140>"
      ]
     },
     "execution_count": 107,
     "metadata": {},
     "output_type": "execute_result"
    },
    {
     "data": {
      "image/png": "[encoded data removed]",
      "text/plain": [
       "<Figure size 500x500 with 1 Axes>"
      ]
     },
     "metadata": {},
     "output_type": "display_data"
    }
   ],
   "source": [
    "sns.displot(connections[\"c.android.youtube\"], bins=40, kde=True)"
   ]
  },
  {
   "cell_type": "markdown",
   "metadata": {},
   "source": [
    "Môžeme vidieť, že dané dáta inklinujú k normálnej distribúcii."
   ]
  },
  {
   "cell_type": "markdown",
   "metadata": {},
   "source": [
    "#### Priemer"
   ]
  },
  {
   "cell_type": "code",
   "execution_count": 108,
   "metadata": {},
   "outputs": [
    {
     "data": {
      "text/plain": [
       "np.float64(13.119659893153939)"
      ]
     },
     "execution_count": 108,
     "metadata": {},
     "output_type": "execute_result"
    }
   ],
   "source": [
    "np.mean(connections[\"c.android.youtube\"])"
   ]
  },
  {
   "cell_type": "markdown",
   "metadata": {},
   "source": [
    "#### Medián"
   ]
  },
  {
   "cell_type": "code",
   "execution_count": 109,
   "metadata": {},
   "outputs": [
    {
     "data": {
      "text/plain": [
       "np.float64(13.32161)"
      ]
     },
     "execution_count": 109,
     "metadata": {},
     "output_type": "execute_result"
    }
   ],
   "source": [
    "np.median(connections[\"c.android.youtube\"])"
   ]
  },
  {
   "cell_type": "markdown",
   "metadata": {},
   "source": [
    "#### Módus"
   ]
  },
  {
   "cell_type": "code",
   "execution_count": 110,
   "metadata": {},
   "outputs": [
    {
     "data": {
      "text/plain": [
       "ModeResult(mode=np.float64(9.74103), count=np.int64(3))"
      ]
     },
     "execution_count": 110,
     "metadata": {},
     "output_type": "execute_result"
    }
   ],
   "source": [
    "stats.mode(connections[\"c.android.youtube\"])"
   ]
  },
  {
   "cell_type": "markdown",
   "metadata": {},
   "source": [
    "### c.android.chrome"
   ]
  },
  {
   "cell_type": "markdown",
   "metadata": {},
   "source": [
    "#### Distribúcia"
   ]
  },
  {
   "cell_type": "code",
   "execution_count": 111,
   "metadata": {},
   "outputs": [
    {
     "data": {
      "text/plain": [
       "<seaborn.axisgrid.FacetGrid at 0x712f3c783080>"
      ]
     },
     "execution_count": 111,
     "metadata": {},
     "output_type": "execute_result"
    },
    {
     "data": {
      "image/png": "[encoded data removed]",
      "text/plain": [
       "<Figure size 500x500 with 1 Axes>"
      ]
     },
     "metadata": {},
     "output_type": "display_data"
    }
   ],
   "source": [
    "sns.displot(connections[\"c.android.chrome\"], bins=40, kde=True)"
   ]
  },
  {
   "cell_type": "markdown",
   "metadata": {},
   "source": [
    "Hodnoty tejto premennej tiež podliehajú normálnej distribúcii."
   ]
  },
  {
   "cell_type": "markdown",
   "metadata": {},
   "source": [
    "#### Priemer"
   ]
  },
  {
   "cell_type": "code",
   "execution_count": 112,
   "metadata": {},
   "outputs": [
    {
     "data": {
      "text/plain": [
       "np.float64(11.947437883524602)"
      ]
     },
     "execution_count": 112,
     "metadata": {},
     "output_type": "execute_result"
    }
   ],
   "source": [
    "np.mean(connections[\"c.android.chrome\"])"
   ]
  },
  {
   "cell_type": "markdown",
   "metadata": {},
   "source": [
    "#### Medián"
   ]
  },
  {
   "cell_type": "code",
   "execution_count": 113,
   "metadata": {},
   "outputs": [
    {
     "data": {
      "text/plain": [
       "np.float64(11.889334999999999)"
      ]
     },
     "execution_count": 113,
     "metadata": {},
     "output_type": "execute_result"
    }
   ],
   "source": [
    "np.median(connections[\"c.android.chrome\"])"
   ]
  },
  {
   "cell_type": "markdown",
   "metadata": {},
   "source": [
    "#### Módus"
   ]
  },
  {
   "cell_type": "code",
   "execution_count": 114,
   "metadata": {},
   "outputs": [
    {
     "data": {
      "text/plain": [
       "ModeResult(mode=np.float64(12.3732), count=np.int64(3))"
      ]
     },
     "execution_count": 114,
     "metadata": {},
     "output_type": "execute_result"
    }
   ],
   "source": [
    "stats.mode(connections[\"c.android.chrome\"])"
   ]
  },
  {
   "cell_type": "markdown",
   "metadata": {},
   "source": [
    "### c.android.gm"
   ]
  },
  {
   "cell_type": "markdown",
   "metadata": {},
   "source": [
    "#### Distribúcia"
   ]
  },
  {
   "cell_type": "code",
   "execution_count": 115,
   "metadata": {},
   "outputs": [
    {
     "data": {
      "text/plain": [
       "<seaborn.axisgrid.FacetGrid at 0x712fa685bb00>"
      ]
     },
     "execution_count": 115,
     "metadata": {},
     "output_type": "execute_result"
    },
    {
     "data": {
      "image/png": "[encoded data removed]",
      "text/plain": [
       "<Figure size 500x500 with 1 Axes>"
      ]
     },
     "metadata": {},
     "output_type": "display_data"
    }
   ],
   "source": [
    "sns.displot(connections[\"c.android.gm\"], bins=40, kde=True)"
   ]
  },
  {
   "cell_type": "markdown",
   "metadata": {},
   "source": [
    "Hodnoty tejto premennej tiež podliehajú normálnej distribúcii, avšak s minimálnym right-skewom."
   ]
  },
  {
   "cell_type": "markdown",
   "metadata": {},
   "source": [
    "#### Priemer"
   ]
  },
  {
   "cell_type": "code",
   "execution_count": 116,
   "metadata": {},
   "outputs": [
    {
     "data": {
      "text/plain": [
       "np.float64(11.949904859517213)"
      ]
     },
     "execution_count": 116,
     "metadata": {},
     "output_type": "execute_result"
    }
   ],
   "source": [
    "np.mean(connections[\"c.android.gm\"])"
   ]
  },
  {
   "cell_type": "markdown",
   "metadata": {},
   "source": [
    "#### Medián"
   ]
  },
  {
   "cell_type": "code",
   "execution_count": 117,
   "metadata": {},
   "outputs": [
    {
     "data": {
      "text/plain": [
       "np.float64(11.886434999999999)"
      ]
     },
     "execution_count": 117,
     "metadata": {},
     "output_type": "execute_result"
    }
   ],
   "source": [
    "np.median(connections[\"c.android.gm\"])"
   ]
  },
  {
   "cell_type": "markdown",
   "metadata": {},
   "source": [
    "#### Módus"
   ]
  },
  {
   "cell_type": "code",
   "execution_count": 118,
   "metadata": {},
   "outputs": [
    {
     "data": {
      "text/plain": [
       "ModeResult(mode=np.float64(8.86941), count=np.int64(3))"
      ]
     },
     "execution_count": 118,
     "metadata": {},
     "output_type": "execute_result"
    }
   ],
   "source": [
    "stats.mode(connections[\"c.android.gm\"])"
   ]
  },
  {
   "cell_type": "markdown",
   "metadata": {},
   "source": [
    "### c.android.vending"
   ]
  },
  {
   "cell_type": "markdown",
   "metadata": {},
   "source": [
    "#### Distribúcia"
   ]
  },
  {
   "cell_type": "code",
   "execution_count": 119,
   "metadata": {},
   "outputs": [
    {
     "data": {
      "text/plain": [
       "<seaborn.axisgrid.FacetGrid at 0x712fa685ad20>"
      ]
     },
     "execution_count": 119,
     "metadata": {},
     "output_type": "execute_result"
    },
    {
     "data": {
      "image/png": "[encoded data removed]",
      "text/plain": [
       "<Figure size 500x500 with 1 Axes>"
      ]
     },
     "metadata": {},
     "output_type": "display_data"
    }
   ],
   "source": [
    "sns.displot(connections[\"c.android.vending\"], bins=40, kde=True)"
   ]
  },
  {
   "cell_type": "markdown",
   "metadata": {},
   "source": [
    "Tieto dáta narozdiel od predošlých podliehajú uniformnej distribúcii."
   ]
  },
  {
   "cell_type": "markdown",
   "metadata": {},
   "source": [
    "#### Priemer"
   ]
  },
  {
   "cell_type": "code",
   "execution_count": 120,
   "metadata": {},
   "outputs": [
    {
     "data": {
      "text/plain": [
       "np.float64(49.469002548476446)"
      ]
     },
     "execution_count": 120,
     "metadata": {},
     "output_type": "execute_result"
    }
   ],
   "source": [
    "np.mean(connections[\"c.android.vending\"])"
   ]
  },
  {
   "cell_type": "markdown",
   "metadata": {},
   "source": [
    "#### Medián"
   ]
  },
  {
   "cell_type": "code",
   "execution_count": 121,
   "metadata": {},
   "outputs": [
    {
     "data": {
      "text/plain": [
       "np.float64(49.24872)"
      ]
     },
     "execution_count": 121,
     "metadata": {},
     "output_type": "execute_result"
    }
   ],
   "source": [
    "np.median(connections[\"c.android.vending\"])"
   ]
  },
  {
   "cell_type": "markdown",
   "metadata": {},
   "source": [
    "#### Módus"
   ]
  },
  {
   "cell_type": "code",
   "execution_count": 122,
   "metadata": {},
   "outputs": [
    {
     "data": {
      "text/plain": [
       "ModeResult(mode=np.float64(49.66763), count=np.int64(3))"
      ]
     },
     "execution_count": 122,
     "metadata": {},
     "output_type": "execute_result"
    }
   ],
   "source": [
    "stats.mode(connections[\"c.android.vending\"])"
   ]
  },
  {
   "cell_type": "markdown",
   "metadata": {},
   "source": [
    "### c.katana"
   ]
  },
  {
   "cell_type": "markdown",
   "metadata": {},
   "source": [
    "#### Distribúcia"
   ]
  },
  {
   "cell_type": "code",
   "execution_count": 123,
   "metadata": {},
   "outputs": [
    {
     "data": {
      "text/plain": [
       "<seaborn.axisgrid.FacetGrid at 0x712f3c782480>"
      ]
     },
     "execution_count": 123,
     "metadata": {},
     "output_type": "execute_result"
    },
    {
     "data": {
      "image/png": "[encoded data removed]",
      "text/plain": [
       "<Figure size 500x500 with 1 Axes>"
      ]
     },
     "metadata": {},
     "output_type": "display_data"
    }
   ],
   "source": [
    "sns.displot(connections[\"c.katana\"], bins=40, kde=True)"
   ]
  },
  {
   "cell_type": "markdown",
   "metadata": {},
   "source": [
    "Dané hodnoty znova podliehajú normálnej distribúcii s minimálnym right-skewom."
   ]
  },
  {
   "cell_type": "markdown",
   "metadata": {},
   "source": [
    "#### Priemer"
   ]
  },
  {
   "cell_type": "code",
   "execution_count": 124,
   "metadata": {},
   "outputs": [
    {
     "data": {
      "text/plain": [
       "np.float64(12.484150555335708)"
      ]
     },
     "execution_count": 124,
     "metadata": {},
     "output_type": "execute_result"
    }
   ],
   "source": [
    "np.mean(connections[\"c.katana\"])"
   ]
  },
  {
   "cell_type": "markdown",
   "metadata": {},
   "source": [
    "#### Medián"
   ]
  },
  {
   "cell_type": "code",
   "execution_count": 125,
   "metadata": {},
   "outputs": [
    {
     "data": {
      "text/plain": [
       "np.float64(12.318145000000001)"
      ]
     },
     "execution_count": 125,
     "metadata": {},
     "output_type": "execute_result"
    }
   ],
   "source": [
    "np.median(connections[\"c.katana\"])"
   ]
  },
  {
   "cell_type": "markdown",
   "metadata": {},
   "source": [
    "#### Módus"
   ]
  },
  {
   "cell_type": "code",
   "execution_count": 126,
   "metadata": {},
   "outputs": [
    {
     "data": {
      "text/plain": [
       "ModeResult(mode=np.float64(10.62304), count=np.int64(3))"
      ]
     },
     "execution_count": 126,
     "metadata": {},
     "output_type": "execute_result"
    }
   ],
   "source": [
    "stats.mode(connections[\"c.katana\"])"
   ]
  },
  {
   "cell_type": "markdown",
   "metadata": {},
   "source": [
    "### Boxploty daných atribútov"
   ]
  },
  {
   "cell_type": "code",
   "execution_count": 156,
   "metadata": {},
   "outputs": [
    {
     "data": {
      "image/png": "[encoded data removed]",
      "text/plain": [
       "<Figure size 900x900 with 1 Axes>"
      ]
     },
     "metadata": {},
     "output_type": "display_data"
    }
   ],
   "source": [
    "selected_connections_columns = ['c.android.youtube', 'c.android.chrome', 'c.android.gm', 'c.android.vending', 'c.katana']\n",
    "\n",
    "plt.figure(figsize=(9, 9)) \n",
    "connections[selected_connections_columns].boxplot()\n",
    "plt.show()"
   ]
  },
  {
   "cell_type": "markdown",
   "metadata": {},
   "source": [
    "## devices"
   ]
  },
  {
   "cell_type": "markdown",
   "metadata": {},
   "source": [
    "Len niektoré atribúty z tejto tabuľky sú kvantitatívne, a to konkrétne imei (International Mobile Equipment Identity, t.j. unikátny identifikátor mobilného zariadenia) a následne zemepisná dĺžka a šírka. Keďže identifikátor nie je možné zmysluplne štatisticky analyzovať a nevidím zatiaľ súvis medzi zemepisnou šírkou a dĺžkou zakúpenia zariadenia a počtu zariadení infikovaných malwarom, považujem analýzu týchto atribútov za bezvýznamnú."
   ]
  },
  {
   "cell_type": "markdown",
   "metadata": {},
   "source": [
    "## processes"
   ]
  },
  {
   "cell_type": "markdown",
   "metadata": {},
   "source": [
    "Táto tabuľka obsahuje niektoré atribúty, ktoré pravdepodobne korelujú s niektorými inými zo súboru connections, no niektoré sú unikátne pre tento súbor, ako napríklad p.android.packageinstaller, p.system, p.android.settings, p.process.gapps a p.olauncher. Na základe predpokladaných významov týchto názvov som sa rozhodol analyzovať tieto atribúty."
   ]
  },
  {
   "cell_type": "markdown",
   "metadata": {},
   "source": [
    "### p.android.packageinstaller"
   ]
  },
  {
   "cell_type": "markdown",
   "metadata": {},
   "source": [
    "#### Distribúcia"
   ]
  },
  {
   "cell_type": "code",
   "execution_count": 128,
   "metadata": {},
   "outputs": [
    {
     "data": {
      "text/plain": [
       "<seaborn.axisgrid.FacetGrid at 0x712f36921850>"
      ]
     },
     "execution_count": 128,
     "metadata": {},
     "output_type": "execute_result"
    },
    {
     "data": {
      "image/png": "[encoded data removed]",
      "text/plain": [
       "<Figure size 500x500 with 1 Axes>"
      ]
     },
     "metadata": {},
     "output_type": "display_data"
    }
   ],
   "source": [
    "sns.displot(processes[\"p.android.packageinstaller\"], bins=40, kde=True)"
   ]
  },
  {
   "cell_type": "markdown",
   "metadata": {},
   "source": [
    "Môžeme vidieť, že dané dáta inklinujú k normálnej distribúcii s malým right-skewom."
   ]
  },
  {
   "cell_type": "markdown",
   "metadata": {},
   "source": [
    "#### Priemer"
   ]
  },
  {
   "cell_type": "code",
   "execution_count": 129,
   "metadata": {},
   "outputs": [
    {
     "data": {
      "text/plain": [
       "np.float64(11.326046034164357)"
      ]
     },
     "execution_count": 129,
     "metadata": {},
     "output_type": "execute_result"
    }
   ],
   "source": [
    "np.mean(processes[\"p.android.packageinstaller\"])"
   ]
  },
  {
   "cell_type": "markdown",
   "metadata": {},
   "source": [
    "#### Medián"
   ]
  },
  {
   "cell_type": "code",
   "execution_count": 130,
   "metadata": {},
   "outputs": [
    {
     "data": {
      "text/plain": [
       "np.float64(11.099845)"
      ]
     },
     "execution_count": 130,
     "metadata": {},
     "output_type": "execute_result"
    }
   ],
   "source": [
    "np.median(processes[\"p.android.packageinstaller\"])"
   ]
  },
  {
   "cell_type": "markdown",
   "metadata": {},
   "source": [
    "#### Módus"
   ]
  },
  {
   "cell_type": "code",
   "execution_count": 131,
   "metadata": {},
   "outputs": [
    {
     "data": {
      "text/plain": [
       "ModeResult(mode=np.float64(9.76992), count=np.int64(3))"
      ]
     },
     "execution_count": 131,
     "metadata": {},
     "output_type": "execute_result"
    }
   ],
   "source": [
    "stats.mode(processes[\"p.android.packageinstaller\"])"
   ]
  },
  {
   "cell_type": "markdown",
   "metadata": {},
   "source": [
    "### p.system"
   ]
  },
  {
   "cell_type": "markdown",
   "metadata": {},
   "source": [
    "#### Distribúcia"
   ]
  },
  {
   "cell_type": "code",
   "execution_count": 133,
   "metadata": {},
   "outputs": [
    {
     "data": {
      "text/plain": [
       "<seaborn.axisgrid.FacetGrid at 0x712f36a7c2c0>"
      ]
     },
     "execution_count": 133,
     "metadata": {},
     "output_type": "execute_result"
    },
    {
     "data": {
      "image/png": "[encoded data removed]",
      "text/plain": [
       "<Figure size 500x500 with 1 Axes>"
      ]
     },
     "metadata": {},
     "output_type": "display_data"
    }
   ],
   "source": [
    "sns.displot(processes[\"p.system\"], bins=40, kde=True)"
   ]
  },
  {
   "cell_type": "markdown",
   "metadata": {},
   "source": [
    "Môžeme vidieť, že dané dáta inklinujú k normálnej distribúcii, no tento raz s jemným left-skewom."
   ]
  },
  {
   "cell_type": "markdown",
   "metadata": {},
   "source": [
    "#### Priemer"
   ]
  },
  {
   "cell_type": "code",
   "execution_count": 134,
   "metadata": {},
   "outputs": [
    {
     "data": {
      "text/plain": [
       "np.float64(13.670558597150773)"
      ]
     },
     "execution_count": 134,
     "metadata": {},
     "output_type": "execute_result"
    }
   ],
   "source": [
    "np.mean(processes[\"p.system\"])"
   ]
  },
  {
   "cell_type": "markdown",
   "metadata": {},
   "source": [
    "#### Medián"
   ]
  },
  {
   "cell_type": "code",
   "execution_count": 135,
   "metadata": {},
   "outputs": [
    {
     "data": {
      "text/plain": [
       "np.float64(13.84661)"
      ]
     },
     "execution_count": 135,
     "metadata": {},
     "output_type": "execute_result"
    }
   ],
   "source": [
    "np.median(processes[\"p.system\"])"
   ]
  },
  {
   "cell_type": "markdown",
   "metadata": {},
   "source": [
    "#### Módus"
   ]
  },
  {
   "cell_type": "code",
   "execution_count": 136,
   "metadata": {},
   "outputs": [
    {
     "data": {
      "text/plain": [
       "ModeResult(mode=np.float64(12.98587), count=np.int64(3))"
      ]
     },
     "execution_count": 136,
     "metadata": {},
     "output_type": "execute_result"
    }
   ],
   "source": [
    "stats.mode(processes[\"p.system\"])"
   ]
  },
  {
   "cell_type": "markdown",
   "metadata": {},
   "source": [
    "### p.android.settings"
   ]
  },
  {
   "cell_type": "markdown",
   "metadata": {},
   "source": [
    "#### Distribúcia"
   ]
  },
  {
   "cell_type": "code",
   "execution_count": 141,
   "metadata": {},
   "outputs": [
    {
     "data": {
      "text/plain": [
       "<seaborn.axisgrid.FacetGrid at 0x712f36ac2150>"
      ]
     },
     "execution_count": 141,
     "metadata": {},
     "output_type": "execute_result"
    },
    {
     "data": {
      "image/png": "[encoded data removed]",
      "text/plain": [
       "<Figure size 500x500 with 1 Axes>"
      ]
     },
     "metadata": {},
     "output_type": "display_data"
    }
   ],
   "source": [
    "sns.displot(processes[\"p.android.settings\"], bins=40, kde=True)"
   ]
  },
  {
   "cell_type": "markdown",
   "metadata": {},
   "source": [
    "Tieto hodnoty tiež predstavujú normálnu distribúciu."
   ]
  },
  {
   "cell_type": "markdown",
   "metadata": {},
   "source": [
    "#### Priemer"
   ]
  },
  {
   "cell_type": "code",
   "execution_count": 142,
   "metadata": {},
   "outputs": [
    {
     "data": {
      "text/plain": [
       "np.float64(14.310053117003035)"
      ]
     },
     "execution_count": 142,
     "metadata": {},
     "output_type": "execute_result"
    }
   ],
   "source": [
    "np.mean(processes[\"p.android.settings\"])"
   ]
  },
  {
   "cell_type": "markdown",
   "metadata": {},
   "source": [
    "#### Medián"
   ]
  },
  {
   "cell_type": "code",
   "execution_count": 143,
   "metadata": {},
   "outputs": [
    {
     "data": {
      "text/plain": [
       "np.float64(14.318)"
      ]
     },
     "execution_count": 143,
     "metadata": {},
     "output_type": "execute_result"
    }
   ],
   "source": [
    "np.median(processes[\"p.android.settings\"])"
   ]
  },
  {
   "cell_type": "markdown",
   "metadata": {},
   "source": [
    "#### Módus"
   ]
  },
  {
   "cell_type": "code",
   "execution_count": 144,
   "metadata": {},
   "outputs": [
    {
     "data": {
      "text/plain": [
       "ModeResult(mode=np.float64(13.07896), count=np.int64(3))"
      ]
     },
     "execution_count": 144,
     "metadata": {},
     "output_type": "execute_result"
    }
   ],
   "source": [
    "stats.mode(processes[\"p.android.settings\"])"
   ]
  },
  {
   "cell_type": "markdown",
   "metadata": {},
   "source": [
    "### p.process.gapps"
   ]
  },
  {
   "cell_type": "markdown",
   "metadata": {},
   "source": [
    "#### Distribúcia"
   ]
  },
  {
   "cell_type": "code",
   "execution_count": 159,
   "metadata": {},
   "outputs": [
    {
     "data": {
      "text/plain": [
       "<seaborn.axisgrid.FacetGrid at 0x712f36990d70>"
      ]
     },
     "execution_count": 159,
     "metadata": {},
     "output_type": "execute_result"
    },
    {
     "data": {
      "image/png": "[encoded data removed]",
      "text/plain": [
       "<Figure size 500x500 with 1 Axes>"
      ]
     },
     "metadata": {},
     "output_type": "display_data"
    }
   ],
   "source": [
    "sns.displot(processes[\"p.process.gapps\"], bins=40, kde=True)"
   ]
  },
  {
   "cell_type": "markdown",
   "metadata": {},
   "source": [
    "Tieto hodnoty tiež predstavujú normálnu distribúciu."
   ]
  },
  {
   "cell_type": "markdown",
   "metadata": {},
   "source": [
    "#### Priemer"
   ]
  },
  {
   "cell_type": "code",
   "execution_count": 160,
   "metadata": {},
   "outputs": [
    {
     "data": {
      "text/plain": [
       "np.float64(46.60420038451392)"
      ]
     },
     "execution_count": 160,
     "metadata": {},
     "output_type": "execute_result"
    }
   ],
   "source": [
    "np.mean(processes[\"p.process.gapps\"])"
   ]
  },
  {
   "cell_type": "markdown",
   "metadata": {},
   "source": [
    "#### Medián"
   ]
  },
  {
   "cell_type": "code",
   "execution_count": 161,
   "metadata": {},
   "outputs": [
    {
     "data": {
      "text/plain": [
       "np.float64(46.510845)"
      ]
     },
     "execution_count": 161,
     "metadata": {},
     "output_type": "execute_result"
    }
   ],
   "source": [
    "np.median(processes[\"p.process.gapps\"])"
   ]
  },
  {
   "cell_type": "markdown",
   "metadata": {},
   "source": [
    "#### Módus"
   ]
  },
  {
   "cell_type": "code",
   "execution_count": 162,
   "metadata": {},
   "outputs": [
    {
     "data": {
      "text/plain": [
       "ModeResult(mode=np.float64(32.27951), count=np.int64(3))"
      ]
     },
     "execution_count": 162,
     "metadata": {},
     "output_type": "execute_result"
    }
   ],
   "source": [
    "stats.mode(processes[\"p.process.gapps\"])"
   ]
  },
  {
   "cell_type": "markdown",
   "metadata": {},
   "source": [
    "### p.olauncher"
   ]
  },
  {
   "cell_type": "markdown",
   "metadata": {},
   "source": [
    "#### Distribúcia"
   ]
  },
  {
   "cell_type": "code",
   "execution_count": 152,
   "metadata": {},
   "outputs": [
    {
     "data": {
      "text/plain": [
       "<seaborn.axisgrid.FacetGrid at 0x712f36bdfda0>"
      ]
     },
     "execution_count": 152,
     "metadata": {},
     "output_type": "execute_result"
    },
    {
     "data": {
      "image/png": "[encoded data removed]",
      "text/plain": [
       "<Figure size 500x500 with 1 Axes>"
      ]
     },
     "metadata": {},
     "output_type": "display_data"
    }
   ],
   "source": [
    "sns.displot(processes[\"p.olauncher\"], bins=40, kde=True)"
   ]
  },
  {
   "cell_type": "markdown",
   "metadata": {},
   "source": [
    "Tieto hodnoty sa už správajú inak, reprezentujú uniformnú distribúciu"
   ]
  },
  {
   "cell_type": "markdown",
   "metadata": {},
   "source": [
    "#### Priemer"
   ]
  },
  {
   "cell_type": "code",
   "execution_count": 153,
   "metadata": {},
   "outputs": [
    {
     "data": {
      "text/plain": [
       "np.float64(49.83975937870993)"
      ]
     },
     "execution_count": 153,
     "metadata": {},
     "output_type": "execute_result"
    }
   ],
   "source": [
    "np.mean(processes[\"p.olauncher\"])"
   ]
  },
  {
   "cell_type": "markdown",
   "metadata": {},
   "source": [
    "#### Medián"
   ]
  },
  {
   "cell_type": "code",
   "execution_count": 154,
   "metadata": {},
   "outputs": [
    {
     "data": {
      "text/plain": [
       "np.float64(49.543865)"
      ]
     },
     "execution_count": 154,
     "metadata": {},
     "output_type": "execute_result"
    }
   ],
   "source": [
    "np.median(processes[\"p.olauncher\"])"
   ]
  },
  {
   "cell_type": "markdown",
   "metadata": {},
   "source": [
    "#### Módus"
   ]
  },
  {
   "cell_type": "code",
   "execution_count": 155,
   "metadata": {},
   "outputs": [
    {
     "data": {
      "text/plain": [
       "ModeResult(mode=np.float64(3.46608), count=np.int64(3))"
      ]
     },
     "execution_count": 155,
     "metadata": {},
     "output_type": "execute_result"
    }
   ],
   "source": [
    "stats.mode(processes[\"p.olauncher\"])"
   ]
  },
  {
   "cell_type": "markdown",
   "metadata": {},
   "source": [
    "### Boxploty daných atribútov"
   ]
  },
  {
   "cell_type": "code",
   "execution_count": 158,
   "metadata": {},
   "outputs": [
    {
     "data": {
      "image/png": "[encoded data removed]",
      "text/plain": [
       "<Figure size 900x900 with 1 Axes>"
      ]
     },
     "metadata": {},
     "output_type": "display_data"
    }
   ],
   "source": [
    "selected_processes_columns = ['p.android.packageinstaller', 'p.system', 'p.android.settings', 'p.process.gapps', 'p.olauncher']\n",
    "\n",
    "plt.figure(figsize=(9, 9)) \n",
    "processes[selected_processes_columns].boxplot()\n",
    "plt.show()"
   ]
  },
  {
   "cell_type": "markdown",
   "metadata": {},
   "source": [
    "Môžeme vyčítať, že p.process.gapps a p.olauncher majú výrazne vyššie mediány ako ostatné atribúty, a taktiež že ich p.process.gapps obsahuje outliery vzdialené ďaleko od whiskers."
   ]
  },
  {
   "cell_type": "markdown",
   "metadata": {},
   "source": [
    "## profiles"
   ]
  },
  {
   "cell_type": "markdown",
   "metadata": {},
   "source": [
    "Keďže tento súbor obsahuje skoro výlučne kvalitatívne atribúty, nemá ich význam analyzovať. Výnimkou by mohol byť atribút birthdate, ktorý by mohol súvisieť s predikovanou premennou vzhľadom na vek používateľov a množstvo zariadení s nainštalovaným malwarom, ale nateraz ho vynechám, keďže nám samotný dátum narodenia nič nepovie."
   ]
  },
  {
   "cell_type": "markdown",
   "metadata": {},
   "source": [
    "# 1.1.C"
   ]
  }
 ],
 "metadata": {
  "kernelspec": {
   "display_name": "venv",
   "language": "python",
   "name": "python3"
  },
  "language_info": {
   "codemirror_mode": {
    "name": "ipython",
    "version": 3
   },
   "file_extension": ".py",
   "mimetype": "text/x-python",
   "name": "python",
   "nbconvert_exporter": "python",
   "pygments_lexer": "ipython3",
   "version": "3.12.3"
  }
 },
 "nbformat": 4,
 "nbformat_minor": 2
}
